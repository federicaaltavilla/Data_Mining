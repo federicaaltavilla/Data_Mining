{
 "cells": [
  {
   "cell_type": "code",
   "execution_count": 89,
   "metadata": {},
   "outputs": [],
   "source": [
    "import IPython.display as ipd\n",
    "import numpy as np\n",
    "import pandas as pd\n",
    "import matplotlib.pyplot as plt\n",
    "import seaborn as sns\n",
    "import sklearn as skl\n",
    "import sklearn.utils, sklearn.preprocessing, sklearn.decomposition\n",
    "from sklearn.metrics import confusion_matrix, ConfusionMatrixDisplay\n",
    "from sklearn.metrics import accuracy_score, f1_score, classification_report\n",
    "from sklearn.metrics import roc_curve, auc, roc_auc_score\n",
    "from sklearn.preprocessing import LabelBinarizer\n",
    "from sklearn.preprocessing import LabelEncoder\n",
    "from sklearn.model_selection import cross_val_score\n",
    "from sklearn.model_selection import GridSearchCV\n",
    "from sklearn.model_selection import RandomizedSearchCV\n",
    "from sklearn import preprocessing\n",
    "from sklearn.decomposition import PCA\n",
    "from sklearn.preprocessing import StandardScaler\n",
    "from sklearn.svm import LinearSVC\n",
    "from sklearn.svm import SVC\n",
    "from time import time\n",
    "import pydotplus\n",
    "from sklearn import tree\n",
    "from IPython.display import Image\n",
    "import scikitplot as skplt\n",
    "from sklearn.neural_network import MLPClassifier"
   ]
  },
  {
   "cell_type": "code",
   "execution_count": 90,
   "metadata": {},
   "outputs": [],
   "source": [
    "df = pd.read_csv(\"/home/damessina/Desktop/df_pulito.csv\")"
   ]
  },
  {
   "cell_type": "code",
   "execution_count": 91,
   "metadata": {},
   "outputs": [],
   "source": [
    "df.drop(columns=['Unnamed: 0'], inplace= True)"
   ]
  },
  {
   "cell_type": "code",
   "execution_count": 92,
   "metadata": {},
   "outputs": [],
   "source": [
    "df_split1 = df[df['split']=='training']\n",
    "df_split2 = df[df['split']=='validation']\n",
    "con = [df_split1, df_split2]\n",
    "df_train = pd.concat(con, ignore_index=True)\n",
    "df_train.drop(columns=['split'], inplace=True)\n",
    "df_train.reset_index(drop=True, inplace=True)"
   ]
  },
  {
   "cell_type": "code",
   "execution_count": 93,
   "metadata": {},
   "outputs": [],
   "source": [
    "attributes_tr = [col for col in df_train.columns if col != 'artist_wikipedia_page']\n",
    "X_train = df_train[attributes_tr].values\n",
    "y_train = df_train['artist_wikipedia_page']"
   ]
  },
  {
   "cell_type": "code",
   "execution_count": 94,
   "metadata": {},
   "outputs": [
    {
     "name": "stderr",
     "output_type": "stream",
     "text": [
      "/home/damessina/anaconda3/lib/python3.8/site-packages/pandas/core/frame.py:4163: SettingWithCopyWarning: \n",
      "A value is trying to be set on a copy of a slice from a DataFrame\n",
      "\n",
      "See the caveats in the documentation: https://pandas.pydata.org/pandas-docs/stable/user_guide/indexing.html#returning-a-view-versus-a-copy\n",
      "  return super().drop(\n"
     ]
    }
   ],
   "source": [
    "df_test = df[df['split']=='test']\n",
    "df_test.drop(columns=['split'], inplace=True)\n",
    "df_test.reset_index(drop=True, inplace=True)"
   ]
  },
  {
   "cell_type": "code",
   "execution_count": 95,
   "metadata": {},
   "outputs": [],
   "source": [
    "attributes_te = [col for col in df_test.columns if col != 'artist_wikipedia_page']\n",
    "X_test = df_test[attributes_te].values\n",
    "y_test = df_test['artist_wikipedia_page']"
   ]
  },
  {
   "cell_type": "code",
   "execution_count": 96,
   "metadata": {},
   "outputs": [],
   "source": [
    "scaler = StandardScaler()\n",
    "X_train = scaler.fit_transform(X_train)\n",
    "X_test = scaler.transform(X_test)"
   ]
  },
  {
   "cell_type": "markdown",
   "metadata": {},
   "source": [
    "## Modello di base del multi layer perceptron Classifier"
   ]
  },
  {
   "cell_type": "code",
   "execution_count": 23,
   "metadata": {},
   "outputs": [
    {
     "name": "stdout",
     "output_type": "stream",
     "text": [
      "Accuracy 0.9222697240575204\n",
      "F1-score [0.95869475 0.34210526]\n",
      "              precision    recall  f1-score   support\n",
      "\n",
      "          No       0.96      0.96      0.96      2418\n",
      "         Yes       0.35      0.34      0.34       155\n",
      "\n",
      "    accuracy                           0.92      2573\n",
      "   macro avg       0.65      0.65      0.65      2573\n",
      "weighted avg       0.92      0.92      0.92      2573\n",
      "\n"
     ]
    },
    {
     "name": "stderr",
     "output_type": "stream",
     "text": [
      "/home/damessina/anaconda3/lib/python3.8/site-packages/sklearn/neural_network/_multilayer_perceptron.py:582: ConvergenceWarning: Stochastic Optimizer: Maximum iterations (200) reached and the optimization hasn't converged yet.\n",
      "  warnings.warn(\n"
     ]
    }
   ],
   "source": [
    "clf = MLPClassifier(random_state=0)\n",
    "\n",
    "clf.fit(X_train, y_train)\n",
    "\n",
    "y_pred = clf.predict(X_test)\n",
    "\n",
    "print('Accuracy %s' % accuracy_score(y_test, y_pred))\n",
    "print('F1-score %s' % f1_score(y_test, y_pred, average=None))\n",
    "print(classification_report(y_test, y_pred))"
   ]
  },
  {
   "cell_type": "code",
   "execution_count": 25,
   "metadata": {},
   "outputs": [
    {
     "name": "stdout",
     "output_type": "stream",
     "text": [
      "Accuracy 0.9094442285270112\n",
      "F1-score [0.95144822 0.32853026]\n",
      "              precision    recall  f1-score   support\n",
      "\n",
      "          No       0.96      0.94      0.95      2418\n",
      "         Yes       0.30      0.37      0.33       155\n",
      "\n",
      "    accuracy                           0.91      2573\n",
      "   macro avg       0.63      0.66      0.64      2573\n",
      "weighted avg       0.92      0.91      0.91      2573\n",
      "\n"
     ]
    }
   ],
   "source": [
    "clf = MLPClassifier(max_iter= 300)\n",
    "\n",
    "clf.fit(X_train, y_train)\n",
    "\n",
    "y_pred = clf.predict(X_test)\n",
    "\n",
    "print('Accuracy %s' % accuracy_score(y_test, y_pred))\n",
    "print('F1-score %s' % f1_score(y_test, y_pred, average=None))\n",
    "print(classification_report(y_test, y_pred))"
   ]
  },
  {
   "cell_type": "code",
   "execution_count": 26,
   "metadata": {},
   "outputs": [
    {
     "data": {
      "text/plain": [
       "<sklearn.metrics._plot.confusion_matrix.ConfusionMatrixDisplay at 0x7ff553084250>"
      ]
     },
     "execution_count": 26,
     "metadata": {},
     "output_type": "execute_result"
    },
    {
     "data": {
      "image/png": "[encoded data removed]",
      "text/plain": [
       "<Figure size 432x288 with 2 Axes>"
      ]
     },
     "metadata": {
      "needs_background": "light"
     },
     "output_type": "display_data"
    }
   ],
   "source": [
    "predict = clf.predict(X_test)\n",
    "cm = confusion_matrix(y_test, predict, labels=clf.classes_)\n",
    "disp = ConfusionMatrixDisplay(confusion_matrix=cm, display_labels=clf.classes_)\n",
    "disp.plot()"
   ]
  },
  {
   "cell_type": "code",
   "execution_count": 27,
   "metadata": {},
   "outputs": [
    {
     "data": {
      "image/png": "[encoded data removed]",
      "text/plain": [
       "<Figure size 432x288 with 1 Axes>"
      ]
     },
     "metadata": {
      "needs_background": "light"
     },
     "output_type": "display_data"
    }
   ],
   "source": [
    "plt.plot(clf.loss_curve_)\n",
    "plt.show()"
   ]
  },
  {
   "cell_type": "markdown",
   "metadata": {},
   "source": [
    "## Tento di cambiare la funione di attivazione"
   ]
  },
  {
   "cell_type": "code",
   "execution_count": 29,
   "metadata": {},
   "outputs": [
    {
     "name": "stdout",
     "output_type": "stream",
     "text": [
      "Accuracy 0.9347065682083171\n",
      "F1-score [0.96622437 0.02325581]\n",
      "              precision    recall  f1-score   support\n",
      "\n",
      "          No       0.94      0.99      0.97      2418\n",
      "         Yes       0.12      0.01      0.02       155\n",
      "\n",
      "    accuracy                           0.93      2573\n",
      "   macro avg       0.53      0.50      0.49      2573\n",
      "weighted avg       0.89      0.93      0.91      2573\n",
      "\n"
     ]
    }
   ],
   "source": [
    "clf = MLPClassifier(activation='identity')\n",
    "\n",
    "clf.fit(X_train, y_train)\n",
    "\n",
    "y_pred = clf.predict(X_test)\n",
    "\n",
    "print('Accuracy %s' % accuracy_score(y_test, y_pred))\n",
    "print('F1-score %s' % f1_score(y_test, y_pred, average=None))\n",
    "print(classification_report(y_test, y_pred))"
   ]
  },
  {
   "cell_type": "code",
   "execution_count": 63,
   "metadata": {
    "scrolled": true
   },
   "outputs": [
    {
     "name": "stdout",
     "output_type": "stream",
     "text": [
      "Accuracy 0.9176059075009716\n",
      "F1-score [0.95639654 0.25352113]\n",
      "              precision    recall  f1-score   support\n",
      "\n",
      "          No       0.95      0.96      0.96      2418\n",
      "         Yes       0.28      0.23      0.25       155\n",
      "\n",
      "    accuracy                           0.92      2573\n",
      "   macro avg       0.62      0.60      0.60      2573\n",
      "weighted avg       0.91      0.92      0.91      2573\n",
      "\n"
     ]
    }
   ],
   "source": [
    "clf = MLPClassifier(activation='logistic', max_iter= 600)\n",
    "\n",
    "clf.fit(X_train, y_train)\n",
    "\n",
    "y_pred = clf.predict(X_test)\n",
    "\n",
    "print('Accuracy %s' % accuracy_score(y_test, y_pred))\n",
    "print('F1-score %s' % f1_score(y_test, y_pred, average=None))\n",
    "print(classification_report(y_test, y_pred))"
   ]
  },
  {
   "cell_type": "code",
   "execution_count": 64,
   "metadata": {
    "scrolled": true
   },
   "outputs": [
    {
     "name": "stdout",
     "output_type": "stream",
     "text": [
      "training set score and loss: 0.997, 0.013514\n"
     ]
    },
    {
     "data": {
      "image/png": "[encoded data removed]",
      "text/plain": [
       "<Figure size 432x288 with 1 Axes>"
      ]
     },
     "metadata": {
      "needs_background": "light"
     },
     "output_type": "display_data"
    }
   ],
   "source": [
    "print(\"training set score and loss: %.3f, %f\" % (clf.score(X_train, y_train), clf.loss_))\n",
    "plt.plot(clf.loss_curve_)\n",
    "plt.show()"
   ]
  },
  {
   "cell_type": "markdown",
   "metadata": {},
   "source": [
    "## Questo è il modello che ha sicuramente le prestazioni migliori, ma ripetendo l'esperimento non mi ha più dato gli stessi risultati"
   ]
  },
  {
   "cell_type": "code",
   "execution_count": 65,
   "metadata": {},
   "outputs": [
    {
     "name": "stdout",
     "output_type": "stream",
     "text": [
      "Accuracy 0.9323746599300428\n",
      "F1-score [0.96378018 0.49122807]\n",
      "              precision    recall  f1-score   support\n",
      "\n",
      "          No       0.97      0.96      0.96      2418\n",
      "         Yes       0.45      0.54      0.49       155\n",
      "\n",
      "    accuracy                           0.93      2573\n",
      "   macro avg       0.71      0.75      0.73      2573\n",
      "weighted avg       0.94      0.93      0.94      2573\n",
      "\n"
     ]
    }
   ],
   "source": [
    "clf = MLPClassifier(activation='tanh', max_iter=400)\n",
    "\n",
    "clf.fit(X_train, y_train)\n",
    "\n",
    "y_pred = clf.predict(X_test)\n",
    "\n",
    "print('Accuracy %s' % accuracy_score(y_test, y_pred))\n",
    "print('F1-score %s' % f1_score(y_test, y_pred, average=None))\n",
    "print(classification_report(y_test, y_pred))"
   ]
  },
  {
   "cell_type": "code",
   "execution_count": 66,
   "metadata": {},
   "outputs": [
    {
     "data": {
      "text/plain": [
       "<sklearn.metrics._plot.confusion_matrix.ConfusionMatrixDisplay at 0x7ff552717250>"
      ]
     },
     "execution_count": 66,
     "metadata": {},
     "output_type": "execute_result"
    },
    {
     "data": {
      "image/png": "[encoded data removed]",
      "text/plain": [
       "<Figure size 432x288 with 2 Axes>"
      ]
     },
     "metadata": {
      "needs_background": "light"
     },
     "output_type": "display_data"
    }
   ],
   "source": [
    "predict = clf.predict(X_test)\n",
    "cm = confusion_matrix(y_test, predict, labels=clf.classes_)\n",
    "disp = ConfusionMatrixDisplay(confusion_matrix=cm, display_labels=clf.classes_)\n",
    "disp.plot()"
   ]
  },
  {
   "cell_type": "code",
   "execution_count": 67,
   "metadata": {},
   "outputs": [
    {
     "name": "stdout",
     "output_type": "stream",
     "text": [
      "training set score and loss: 0.998, 0.009191\n"
     ]
    },
    {
     "data": {
      "image/png": "[encoded data removed]",
      "text/plain": [
       "<Figure size 432x288 with 1 Axes>"
      ]
     },
     "metadata": {
      "needs_background": "light"
     },
     "output_type": "display_data"
    }
   ],
   "source": [
    "print(\"training set score and loss: %.3f, %f\" % (clf.score(X_train, y_train), clf.loss_))\n",
    "plt.plot(clf.loss_curve_)\n",
    "plt.show()"
   ]
  },
  {
   "cell_type": "code",
   "execution_count": 40,
   "metadata": {},
   "outputs": [],
   "source": [
    "import warnings\n",
    "from sklearn.exceptions import ConvergenceWarning"
   ]
  },
  {
   "cell_type": "markdown",
   "metadata": {},
   "source": [
    "## Analizzo i risultati di varie combinazioni di parametri"
   ]
  },
  {
   "cell_type": "code",
   "execution_count": 73,
   "metadata": {},
   "outputs": [],
   "source": [
    "params = [{'solver': 'sgd', 'learning_rate': 'constant', 'momentum': 0,\n",
    "           'learning_rate_init': 0.2},\n",
    "          {'solver': 'sgd', 'learning_rate': 'constant', 'momentum': .9,\n",
    "           'nesterovs_momentum': False, 'learning_rate_init': 0.2},\n",
    "          {'solver': 'sgd', 'learning_rate': 'constant', 'momentum': .9,\n",
    "           'nesterovs_momentum': True, 'learning_rate_init': 0.2},\n",
    "          {'solver': 'sgd', 'learning_rate': 'invscaling', 'momentum': 0,\n",
    "           'learning_rate_init': 0.2},\n",
    "          {'solver': 'sgd', 'learning_rate': 'invscaling', 'momentum': .9,\n",
    "           'nesterovs_momentum': True, 'learning_rate_init': 0.2},\n",
    "          {'solver': 'sgd', 'learning_rate': 'invscaling', 'momentum': .9,\n",
    "           'nesterovs_momentum': False, 'learning_rate_init': 0.2},\n",
    "          {'solver': 'adam', 'learning_rate_init': 0.01}]\n",
    "\n",
    "labels = [\"constant learning-rate\", \"constant with momentum\",\n",
    "          \"constant with Nesterov's momentum\",\n",
    "          \"inv-scaling learning-rate\", \"inv-scaling with momentum\",\n",
    "          \"inv-scaling with Nesterov's momentum\", \"adam\"]\n",
    "\n",
    "plot_args = [{'c': 'red', 'linestyle': '-'},\n",
    "             {'c': 'green', 'linestyle': '-'},\n",
    "             {'c': 'blue', 'linestyle': '-'},\n",
    "             {'c': 'red', 'linestyle': '--'},\n",
    "             {'c': 'green', 'linestyle': '--'},\n",
    "             {'c': 'blue', 'linestyle': '--'},\n",
    "             {'c': 'black', 'linestyle': '-'}]"
   ]
  },
  {
   "cell_type": "code",
   "execution_count": 77,
   "metadata": {},
   "outputs": [
    {
     "name": "stdout",
     "output_type": "stream",
     "text": [
      "constant learning-rate\n",
      "training set score and loss: 1.000, 0.000796\n",
      "constant with momentum\n",
      "training set score and loss: 1.000, 0.000796\n",
      "constant with Nesterov's momentum\n",
      "training set score and loss: 1.000, 0.000796\n",
      "inv-scaling learning-rate\n",
      "training set score and loss: 1.000, 0.000796\n",
      "inv-scaling with momentum\n",
      "training set score and loss: 1.000, 0.000796\n",
      "inv-scaling with Nesterov's momentum\n",
      "training set score and loss: 1.000, 0.000796\n",
      "adam\n",
      "training set score and loss: 0.993, 0.026856\n"
     ]
    }
   ],
   "source": [
    "for label, param in zip(labels, params):\n",
    "    print(label)\n",
    "    clf = MLPClassifier(random_state=0, max_iter=600, **param)\n",
    "\n",
    "    # some parameter combinations will not converge as can be seen on the\n",
    "    # plots so they are ignored here\n",
    "    with warnings.catch_warnings():\n",
    "        warnings.filterwarnings(\"ignore\", category=ConvergenceWarning, module=\"sklearn\")\n",
    "        clf.fit(X_train, y_train)\n",
    "\n",
    "    print(\"training set score and loss: %.3f, %f\" % (clf.score(X_train, y_train), clf.loss_))\n",
    "    plt.plot(clf.loss_curve_, label=label)\n",
    "    plt.legend(loc=\"upper center\")\n",
    "    plt.show()"
   ]
  },
  {
   "cell_type": "code",
   "execution_count": 75,
   "metadata": {},
   "outputs": [],
   "source": [
    "params = [{'solver': 'lbfgs', 'learning_rate': 'constant', 'momentum': 0,\n",
    "           'learning_rate_init': 0.2},\n",
    "          {'solver': 'lbfgs', 'learning_rate': 'constant', 'momentum': .9,\n",
    "           'nesterovs_momentum': False, 'learning_rate_init': 0.2},\n",
    "          {'solver': 'lbfgs', 'learning_rate': 'constant', 'momentum': .9,\n",
    "           'nesterovs_momentum': True, 'learning_rate_init': 0.2},\n",
    "          {'solver': 'lbfgs', 'learning_rate': 'invscaling', 'momentum': 0,\n",
    "           'learning_rate_init': 0.2},\n",
    "          {'solver': 'lbfgs', 'learning_rate': 'invscaling', 'momentum': .9,\n",
    "           'nesterovs_momentum': True, 'learning_rate_init': 0.2},\n",
    "          {'solver': 'lbfgs', 'learning_rate': 'invscaling', 'momentum': .9,\n",
    "           'nesterovs_momentum': False, 'learning_rate_init': 0.2},\n",
    "          {'solver': 'adam', 'learning_rate_init': 0.01}]\n",
    "\n",
    "labels = [\"constant learning-rate\", \"constant with momentum\",\n",
    "          \"constant with Nesterov's momentum\",\n",
    "          \"inv-scaling learning-rate\", \"inv-scaling with momentum\",\n",
    "          \"inv-scaling with Nesterov's momentum\", \"adam\"]\n",
    "\n",
    "plot_args = [{'c': 'red', 'linestyle': '-'},\n",
    "             {'c': 'green', 'linestyle': '-'},\n",
    "             {'c': 'blue', 'linestyle': '-'},\n",
    "             {'c': 'red', 'linestyle': '--'},\n",
    "             {'c': 'green', 'linestyle': '--'},\n",
    "             {'c': 'blue', 'linestyle': '--'},\n",
    "             {'c': 'black', 'linestyle': '-'}]\n"
   ]
  },
  {
   "cell_type": "code",
   "execution_count": 78,
   "metadata": {},
   "outputs": [
    {
     "name": "stdout",
     "output_type": "stream",
     "text": [
      "constant learning-rate\n",
      "training set score and loss: 1.000, 0.000796\n",
      "constant with momentum\n",
      "training set score and loss: 1.000, 0.000796\n",
      "constant with Nesterov's momentum\n",
      "training set score and loss: 1.000, 0.000796\n",
      "inv-scaling learning-rate\n",
      "training set score and loss: 1.000, 0.000796\n",
      "inv-scaling with momentum\n",
      "training set score and loss: 1.000, 0.000796\n",
      "inv-scaling with Nesterov's momentum\n",
      "training set score and loss: 1.000, 0.000796\n",
      "adam\n",
      "training set score and loss: 0.993, 0.026856\n"
     ]
    }
   ],
   "source": [
    "for label, param in zip(labels, params):\n",
    "    print(label)\n",
    "    clf = MLPClassifier(random_state=0, max_iter=600, **param)\n",
    "\n",
    "    # some parameter combinations will not converge as can be seen on the\n",
    "    # plots so they are ignored here\n",
    "    with warnings.catch_warnings():\n",
    "        warnings.filterwarnings(\"ignore\", category=ConvergenceWarning, module=\"sklearn\")\n",
    "        clf.fit(X_train, y_train)\n",
    "\n",
    "    print(\"training set score and loss: %.3f, %f\" % (clf.score(X_train, y_train), clf.loss_))\n",
    "    #plt.plot(clf.loss_curve_, label=label)\n",
    "    #plt.legend(loc=\"upper center\")\n",
    "    #plt.show()"
   ]
  },
  {
   "cell_type": "code",
   "execution_count": 83,
   "metadata": {},
   "outputs": [
    {
     "name": "stdout",
     "output_type": "stream",
     "text": [
      "Accuracy 0.9195491643995336\n",
      "F1-score [0.95766005 0.19455253]\n",
      "              precision    recall  f1-score   support\n",
      "\n",
      "          No       0.95      0.97      0.96      2418\n",
      "         Yes       0.25      0.16      0.19       155\n",
      "\n",
      "    accuracy                           0.92      2573\n",
      "   macro avg       0.60      0.56      0.58      2573\n",
      "weighted avg       0.91      0.92      0.91      2573\n",
      "\n"
     ]
    }
   ],
   "source": [
    "clf = MLPClassifier(max_iter=600, solver = 'sgd', learning_rate = 'constant', momentum = 0,\n",
    "                   learning_rate_init= 0.2)\n",
    "\n",
    "clf.fit(X_train, y_train)\n",
    "\n",
    "y_pred = clf.predict(X_test)\n",
    "\n",
    "print('Accuracy %s' % accuracy_score(y_test, y_pred))\n",
    "print('F1-score %s' % f1_score(y_test, y_pred, average=None))\n",
    "print(classification_report(y_test, y_pred))"
   ]
  },
  {
   "cell_type": "code",
   "execution_count": 84,
   "metadata": {},
   "outputs": [
    {
     "data": {
      "text/plain": [
       "[<matplotlib.lines.Line2D at 0x7ff55290cf10>]"
      ]
     },
     "execution_count": 84,
     "metadata": {},
     "output_type": "execute_result"
    },
    {
     "data": {
      "image/png": "[encoded data removed]",
      "text/plain": [
       "<Figure size 432x288 with 1 Axes>"
      ]
     },
     "metadata": {
      "needs_background": "light"
     },
     "output_type": "display_data"
    }
   ],
   "source": [
    "plt.plot(clf.loss_curve_, label=label)"
   ]
  },
  {
   "cell_type": "code",
   "execution_count": 97,
   "metadata": {},
   "outputs": [
    {
     "name": "stdout",
     "output_type": "stream",
     "text": [
      "Accuracy 0.9304314030314808\n",
      "F1-score [0.96310039 0.39322034]\n",
      "              precision    recall  f1-score   support\n",
      "\n",
      "          No       0.96      0.97      0.96      2418\n",
      "         Yes       0.41      0.37      0.39       155\n",
      "\n",
      "    accuracy                           0.93      2573\n",
      "   macro avg       0.69      0.67      0.68      2573\n",
      "weighted avg       0.93      0.93      0.93      2573\n",
      "\n"
     ]
    }
   ],
   "source": [
    "clf = MLPClassifier(activation='tanh', max_iter=400)\n",
    "\n",
    "clf.fit(X_train, y_train)\n",
    "\n",
    "y_pred = clf.predict(X_test)\n",
    "\n",
    "print('Accuracy %s' % accuracy_score(y_test, y_pred))\n",
    "print('F1-score %s' % f1_score(y_test, y_pred, average=None))\n",
    "print(classification_report(y_test, y_pred))"
   ]
  },
  {
   "cell_type": "code",
   "execution_count": 98,
   "metadata": {},
   "outputs": [
    {
     "name": "stdout",
     "output_type": "stream",
     "text": [
      "Accuracy 0.9288767975126312\n",
      "F1-score [0.96210396 0.42271293]\n",
      "              precision    recall  f1-score   support\n",
      "\n",
      "          No       0.96      0.96      0.96      2418\n",
      "         Yes       0.41      0.43      0.42       155\n",
      "\n",
      "    accuracy                           0.93      2573\n",
      "   macro avg       0.69      0.70      0.69      2573\n",
      "weighted avg       0.93      0.93      0.93      2573\n",
      "\n"
     ]
    }
   ],
   "source": [
    "clf = MLPClassifier(activation='tanh', max_iter=400, solver='lbfgs')\n",
    "\n",
    "clf.fit(X_train, y_train)\n",
    "\n",
    "y_pred = clf.predict(X_test)\n",
    "\n",
    "print('Accuracy %s' % accuracy_score(y_test, y_pred))\n",
    "print('F1-score %s' % f1_score(y_test, y_pred, average=None))\n",
    "print(classification_report(y_test, y_pred))"
   ]
  },
  {
   "cell_type": "code",
   "execution_count": 100,
   "metadata": {},
   "outputs": [
    {
     "name": "stdout",
     "output_type": "stream",
     "text": [
      "training set score and loss: 1.000, 0.000466\n"
     ]
    }
   ],
   "source": [
    "print(\"training set score and loss: %.3f, %f\" % (clf.score(X_train, y_train), clf.loss_))\n",
    "#plt.plot(clf.loss_curve_)\n",
    "#plt.show()"
   ]
  },
  {
   "cell_type": "code",
   "execution_count": 101,
   "metadata": {},
   "outputs": [
    {
     "data": {
      "text/plain": [
       "<sklearn.metrics._plot.confusion_matrix.ConfusionMatrixDisplay at 0x7ff554950eb0>"
      ]
     },
     "execution_count": 101,
     "metadata": {},
     "output_type": "execute_result"
    },
    {
     "data": {
      "image/png": "[encoded data removed]",
      "text/plain": [
       "<Figure size 432x288 with 2 Axes>"
      ]
     },
     "metadata": {
      "needs_background": "light"
     },
     "output_type": "display_data"
    }
   ],
   "source": [
    "predict = clf.predict(X_test)\n",
    "cm = confusion_matrix(y_test, predict, labels=clf.classes_)\n",
    "disp = ConfusionMatrixDisplay(confusion_matrix=cm, display_labels=clf.classes_)\n",
    "disp.plot()"
   ]
  },
  {
   "cell_type": "code",
   "execution_count": 102,
   "metadata": {},
   "outputs": [
    {
     "name": "stdout",
     "output_type": "stream",
     "text": [
      "Accuracy 0.9343179168286048\n",
      "F1-score [0.96600282 0.03428571]\n",
      "              precision    recall  f1-score   support\n",
      "\n",
      "          No       0.94      0.99      0.97      2418\n",
      "         Yes       0.15      0.02      0.03       155\n",
      "\n",
      "    accuracy                           0.93      2573\n",
      "   macro avg       0.55      0.51      0.50      2573\n",
      "weighted avg       0.89      0.93      0.91      2573\n",
      "\n"
     ]
    }
   ],
   "source": [
    "clf = MLPClassifier(activation='tanh', max_iter=400, solver='sgd')\n",
    "\n",
    "clf.fit(X_train, y_train)\n",
    "\n",
    "y_pred = clf.predict(X_test)\n",
    "\n",
    "print('Accuracy %s' % accuracy_score(y_test, y_pred))\n",
    "print('F1-score %s' % f1_score(y_test, y_pred, average=None))\n",
    "print(classification_report(y_test, y_pred))"
   ]
  },
  {
   "cell_type": "code",
   "execution_count": 103,
   "metadata": {},
   "outputs": [
    {
     "name": "stdout",
     "output_type": "stream",
     "text": [
      "Accuracy 0.9358725223474543\n",
      "F1-score [0.9668475  0.02366864]\n",
      "              precision    recall  f1-score   support\n",
      "\n",
      "          No       0.94      1.00      0.97      2418\n",
      "         Yes       0.14      0.01      0.02       155\n",
      "\n",
      "    accuracy                           0.94      2573\n",
      "   macro avg       0.54      0.50      0.50      2573\n",
      "weighted avg       0.89      0.94      0.91      2573\n",
      "\n"
     ]
    }
   ],
   "source": [
    "clf = MLPClassifier(activation='identity', max_iter=400, solver='lbfgs')\n",
    "\n",
    "clf.fit(X_train, y_train)\n",
    "\n",
    "y_pred = clf.predict(X_test)\n",
    "\n",
    "print('Accuracy %s' % accuracy_score(y_test, y_pred))\n",
    "print('F1-score %s' % f1_score(y_test, y_pred, average=None))\n",
    "print(classification_report(y_test, y_pred))"
   ]
  },
  {
   "cell_type": "code",
   "execution_count": 104,
   "metadata": {},
   "outputs": [
    {
     "name": "stdout",
     "output_type": "stream",
     "text": [
      "Accuracy 0.9350952195880295\n",
      "F1-score [0.96645913 0.        ]\n",
      "              precision    recall  f1-score   support\n",
      "\n",
      "          No       0.94      1.00      0.97      2418\n",
      "         Yes       0.00      0.00      0.00       155\n",
      "\n",
      "    accuracy                           0.94      2573\n",
      "   macro avg       0.47      0.50      0.48      2573\n",
      "weighted avg       0.88      0.94      0.91      2573\n",
      "\n"
     ]
    }
   ],
   "source": [
    "clf = MLPClassifier(activation='identity', max_iter=400, solver='sgd')\n",
    "\n",
    "clf.fit(X_train, y_train)\n",
    "\n",
    "y_pred = clf.predict(X_test)\n",
    "\n",
    "print('Accuracy %s' % accuracy_score(y_test, y_pred))\n",
    "print('F1-score %s' % f1_score(y_test, y_pred, average=None))\n",
    "print(classification_report(y_test, y_pred))"
   ]
  },
  {
   "cell_type": "code",
   "execution_count": 105,
   "metadata": {},
   "outputs": [
    {
     "name": "stdout",
     "output_type": "stream",
     "text": [
      "Accuracy 0.9020598523124758\n",
      "F1-score [0.94795539 0.17105263]\n",
      "              precision    recall  f1-score   support\n",
      "\n",
      "          No       0.95      0.95      0.95      2418\n",
      "         Yes       0.17      0.17      0.17       155\n",
      "\n",
      "    accuracy                           0.90      2573\n",
      "   macro avg       0.56      0.56      0.56      2573\n",
      "weighted avg       0.90      0.90      0.90      2573\n",
      "\n"
     ]
    }
   ],
   "source": [
    "clf = MLPClassifier(activation='logistic', max_iter=400, solver='lbfgs')\n",
    "\n",
    "clf.fit(X_train, y_train)\n",
    "\n",
    "y_pred = clf.predict(X_test)\n",
    "\n",
    "print('Accuracy %s' % accuracy_score(y_test, y_pred))\n",
    "print('F1-score %s' % f1_score(y_test, y_pred, average=None))\n",
    "print(classification_report(y_test, y_pred))"
   ]
  },
  {
   "cell_type": "code",
   "execution_count": 106,
   "metadata": {},
   "outputs": [
    {
     "name": "stdout",
     "output_type": "stream",
     "text": [
      "Accuracy 0.9385930820054411\n",
      "F1-score [0.96832398 0.        ]\n",
      "              precision    recall  f1-score   support\n",
      "\n",
      "          No       0.94      1.00      0.97      2418\n",
      "         Yes       0.00      0.00      0.00       155\n",
      "\n",
      "    accuracy                           0.94      2573\n",
      "   macro avg       0.47      0.50      0.48      2573\n",
      "weighted avg       0.88      0.94      0.91      2573\n",
      "\n"
     ]
    }
   ],
   "source": [
    "clf = MLPClassifier(activation='logistic', max_iter=400, solver='sgd')\n",
    "\n",
    "clf.fit(X_train, y_train)\n",
    "\n",
    "y_pred = clf.predict(X_test)\n",
    "\n",
    "print('Accuracy %s' % accuracy_score(y_test, y_pred))\n",
    "print('F1-score %s' % f1_score(y_test, y_pred, average=None))\n",
    "print(classification_report(y_test, y_pred))"
   ]
  },
  {
   "cell_type": "code",
   "execution_count": 108,
   "metadata": {},
   "outputs": [
    {
     "name": "stdout",
     "output_type": "stream",
     "text": [
      "Accuracy 0.9032258064516129\n",
      "F1-score [0.94839378 0.22429907]\n",
      "              precision    recall  f1-score   support\n",
      "\n",
      "          No       0.95      0.95      0.95      2418\n",
      "         Yes       0.22      0.23      0.22       155\n",
      "\n",
      "    accuracy                           0.90      2573\n",
      "   macro avg       0.58      0.59      0.59      2573\n",
      "weighted avg       0.91      0.90      0.90      2573\n",
      "\n"
     ]
    },
    {
     "name": "stderr",
     "output_type": "stream",
     "text": [
      "/home/damessina/anaconda3/lib/python3.8/site-packages/sklearn/neural_network/_multilayer_perceptron.py:471: ConvergenceWarning: lbfgs failed to converge (status=1):\n",
      "STOP: TOTAL NO. of ITERATIONS REACHED LIMIT.\n",
      "\n",
      "Increase the number of iterations (max_iter) or scale the data as shown in:\n",
      "    https://scikit-learn.org/stable/modules/preprocessing.html\n",
      "  self.n_iter_ = _check_optimize_result(\"lbfgs\", opt_res, self.max_iter)\n"
     ]
    }
   ],
   "source": [
    "clf = MLPClassifier(activation='relu', max_iter=600, solver='lbfgs')\n",
    "\n",
    "clf.fit(X_train, y_train)\n",
    "\n",
    "y_pred = clf.predict(X_test)\n",
    "\n",
    "print('Accuracy %s' % accuracy_score(y_test, y_pred))\n",
    "print('F1-score %s' % f1_score(y_test, y_pred, average=None))\n",
    "print(classification_report(y_test, y_pred))"
   ]
  },
  {
   "cell_type": "code",
   "execution_count": 109,
   "metadata": {},
   "outputs": [
    {
     "name": "stdout",
     "output_type": "stream",
     "text": [
      "Accuracy 0.9300427516517684\n",
      "F1-score [0.96359223 0.10891089]\n",
      "              precision    recall  f1-score   support\n",
      "\n",
      "          No       0.94      0.99      0.96      2418\n",
      "         Yes       0.23      0.07      0.11       155\n",
      "\n",
      "    accuracy                           0.93      2573\n",
      "   macro avg       0.59      0.53      0.54      2573\n",
      "weighted avg       0.90      0.93      0.91      2573\n",
      "\n"
     ]
    }
   ],
   "source": [
    "clf = MLPClassifier(activation='relu', max_iter=400, solver='sgd')\n",
    "\n",
    "clf.fit(X_train, y_train)\n",
    "\n",
    "y_pred = clf.predict(X_test)\n",
    "\n",
    "print('Accuracy %s' % accuracy_score(y_test, y_pred))\n",
    "print('F1-score %s' % f1_score(y_test, y_pred, average=None))\n",
    "print(classification_report(y_test, y_pred))"
   ]
  },
  {
   "cell_type": "code",
   "execution_count": 110,
   "metadata": {
    "scrolled": true
   },
   "outputs": [
    {
     "name": "stdout",
     "output_type": "stream",
     "text": [
      "Accuracy 0.9246016323357948\n",
      "F1-score [0.96013152 0.30714286]\n",
      "              precision    recall  f1-score   support\n",
      "\n",
      "          No       0.95      0.97      0.96      2418\n",
      "         Yes       0.34      0.28      0.31       155\n",
      "\n",
      "    accuracy                           0.92      2573\n",
      "   macro avg       0.65      0.62      0.63      2573\n",
      "weighted avg       0.92      0.92      0.92      2573\n",
      "\n"
     ]
    }
   ],
   "source": [
    "clf = MLPClassifier(hidden_layer_sizes=(40,40,40), activation='tanh', max_iter=400)\n",
    "\n",
    "clf.fit(X_train, y_train)\n",
    "\n",
    "y_pred = clf.predict(X_test)\n",
    "\n",
    "print('Accuracy %s' % accuracy_score(y_test, y_pred))\n",
    "print('F1-score %s' % f1_score(y_test, y_pred, average=None))\n",
    "print(classification_report(y_test, y_pred))"
   ]
  },
  {
   "cell_type": "code",
   "execution_count": 111,
   "metadata": {},
   "outputs": [
    {
     "data": {
      "text/plain": [
       "<sklearn.metrics._plot.confusion_matrix.ConfusionMatrixDisplay at 0x7ff555238100>"
      ]
     },
     "execution_count": 111,
     "metadata": {},
     "output_type": "execute_result"
    },
    {
     "data": {
      "image/png": "[encoded data removed]",
      "text/plain": [
       "<Figure size 432x288 with 2 Axes>"
      ]
     },
     "metadata": {
      "needs_background": "light"
     },
     "output_type": "display_data"
    }
   ],
   "source": [
    "predict = clf.predict(X_test)\n",
    "cm = confusion_matrix(y_test, predict, labels=clf.classes_)\n",
    "disp = ConfusionMatrixDisplay(confusion_matrix=cm, display_labels=clf.classes_)\n",
    "disp.plot()"
   ]
  },
  {
   "cell_type": "code",
   "execution_count": 112,
   "metadata": {},
   "outputs": [
    {
     "name": "stdout",
     "output_type": "stream",
     "text": [
      "Accuracy 0.9028371550719005\n",
      "F1-score [0.94864421 0.10071942]\n",
      "              precision    recall  f1-score   support\n",
      "\n",
      "          No       0.94      0.95      0.95      2418\n",
      "         Yes       0.11      0.09      0.10       155\n",
      "\n",
      "    accuracy                           0.90      2573\n",
      "   macro avg       0.53      0.52      0.52      2573\n",
      "weighted avg       0.89      0.90      0.90      2573\n",
      "\n"
     ]
    }
   ],
   "source": [
    "clf = MLPClassifier(hidden_layer_sizes=(100,50,30), activation='tanh', max_iter=400)\n",
    "\n",
    "clf.fit(X_train, y_train)\n",
    "\n",
    "y_pred = clf.predict(X_test)\n",
    "\n",
    "print('Accuracy %s' % accuracy_score(y_test, y_pred))\n",
    "print('F1-score %s' % f1_score(y_test, y_pred, average=None))\n",
    "print(classification_report(y_test, y_pred))"
   ]
  },
  {
   "cell_type": "code",
   "execution_count": 113,
   "metadata": {},
   "outputs": [
    {
     "data": {
      "text/plain": [
       "<sklearn.metrics._plot.confusion_matrix.ConfusionMatrixDisplay at 0x7ff552e29b20>"
      ]
     },
     "execution_count": 113,
     "metadata": {},
     "output_type": "execute_result"
    },
    {
     "data": {
      "image/png": "[encoded data removed]",
      "text/plain": [
       "<Figure size 432x288 with 2 Axes>"
      ]
     },
     "metadata": {
      "needs_background": "light"
     },
     "output_type": "display_data"
    }
   ],
   "source": [
    "predict = clf.predict(X_test)\n",
    "cm = confusion_matrix(y_test, predict, labels=clf.classes_)\n",
    "disp = ConfusionMatrixDisplay(confusion_matrix=cm, display_labels=clf.classes_)\n",
    "disp.plot()"
   ]
  },
  {
   "cell_type": "code",
   "execution_count": 114,
   "metadata": {},
   "outputs": [
    {
     "name": "stdout",
     "output_type": "stream",
     "text": [
      "Accuracy 0.9269335406140692\n",
      "F1-score [0.96128501 0.35172414]\n",
      "              precision    recall  f1-score   support\n",
      "\n",
      "          No       0.96      0.97      0.96      2418\n",
      "         Yes       0.38      0.33      0.35       155\n",
      "\n",
      "    accuracy                           0.93      2573\n",
      "   macro avg       0.67      0.65      0.66      2573\n",
      "weighted avg       0.92      0.93      0.92      2573\n",
      "\n"
     ]
    }
   ],
   "source": [
    "clf = MLPClassifier(hidden_layer_sizes=(30,50,100), activation='tanh', max_iter=400)\n",
    "\n",
    "clf.fit(X_train, y_train)\n",
    "\n",
    "y_pred = clf.predict(X_test)\n",
    "\n",
    "print('Accuracy %s' % accuracy_score(y_test, y_pred))\n",
    "print('F1-score %s' % f1_score(y_test, y_pred, average=None))\n",
    "print(classification_report(y_test, y_pred))"
   ]
  },
  {
   "cell_type": "code",
   "execution_count": 115,
   "metadata": {},
   "outputs": [
    {
     "data": {
      "text/plain": [
       "<sklearn.metrics._plot.confusion_matrix.ConfusionMatrixDisplay at 0x7ff55180d0d0>"
      ]
     },
     "execution_count": 115,
     "metadata": {},
     "output_type": "execute_result"
    },
    {
     "data": {
      "image/png": "[encoded data removed]",
      "text/plain": [
       "<Figure size 432x288 with 2 Axes>"
      ]
     },
     "metadata": {
      "needs_background": "light"
     },
     "output_type": "display_data"
    }
   ],
   "source": [
    "predict = clf.predict(X_test)\n",
    "cm = confusion_matrix(y_test, predict, labels=clf.classes_)\n",
    "disp = ConfusionMatrixDisplay(confusion_matrix=cm, display_labels=clf.classes_)\n",
    "disp.plot()"
   ]
  },
  {
   "cell_type": "code",
   "execution_count": 116,
   "metadata": {},
   "outputs": [
    {
     "name": "stdout",
     "output_type": "stream",
     "text": [
      "Accuracy 0.8880684026428294\n",
      "F1-score [0.94007491 0.15294118]\n",
      "              precision    recall  f1-score   support\n",
      "\n",
      "          No       0.95      0.93      0.94      2418\n",
      "         Yes       0.14      0.17      0.15       155\n",
      "\n",
      "    accuracy                           0.89      2573\n",
      "   macro avg       0.54      0.55      0.55      2573\n",
      "weighted avg       0.90      0.89      0.89      2573\n",
      "\n"
     ]
    }
   ],
   "source": [
    "clf = MLPClassifier(hidden_layer_sizes=(50,50,50), activation='tanh', max_iter=400)\n",
    "\n",
    "clf.fit(X_train, y_train)\n",
    "\n",
    "y_pred = clf.predict(X_test)\n",
    "\n",
    "print('Accuracy %s' % accuracy_score(y_test, y_pred))\n",
    "print('F1-score %s' % f1_score(y_test, y_pred, average=None))\n",
    "print(classification_report(y_test, y_pred))"
   ]
  },
  {
   "cell_type": "code",
   "execution_count": 117,
   "metadata": {},
   "outputs": [
    {
     "data": {
      "text/plain": [
       "<sklearn.metrics._plot.confusion_matrix.ConfusionMatrixDisplay at 0x7ff55307c190>"
      ]
     },
     "execution_count": 117,
     "metadata": {},
     "output_type": "execute_result"
    },
    {
     "data": {
      "image/png": "[encoded data removed]",
      "text/plain": [
       "<Figure size 432x288 with 2 Axes>"
      ]
     },
     "metadata": {
      "needs_background": "light"
     },
     "output_type": "display_data"
    }
   ],
   "source": [
    "predict = clf.predict(X_test)\n",
    "cm = confusion_matrix(y_test, predict, labels=clf.classes_)\n",
    "disp = ConfusionMatrixDisplay(confusion_matrix=cm, display_labels=clf.classes_)\n",
    "disp.plot()"
   ]
  },
  {
   "cell_type": "code",
   "execution_count": 118,
   "metadata": {},
   "outputs": [
    {
     "name": "stdout",
     "output_type": "stream",
     "text": [
      "Accuracy 0.9253789350952196\n",
      "F1-score [0.96009975 0.4251497 ]\n",
      "              precision    recall  f1-score   support\n",
      "\n",
      "          No       0.96      0.96      0.96      2418\n",
      "         Yes       0.40      0.46      0.43       155\n",
      "\n",
      "    accuracy                           0.93      2573\n",
      "   macro avg       0.68      0.71      0.69      2573\n",
      "weighted avg       0.93      0.93      0.93      2573\n",
      "\n"
     ]
    }
   ],
   "source": [
    "clf = MLPClassifier(hidden_layer_sizes=(200,), activation='tanh', max_iter=400)\n",
    "\n",
    "clf.fit(X_train, y_train)\n",
    "\n",
    "y_pred = clf.predict(X_test)\n",
    "\n",
    "print('Accuracy %s' % accuracy_score(y_test, y_pred))\n",
    "print('F1-score %s' % f1_score(y_test, y_pred, average=None))\n",
    "print(classification_report(y_test, y_pred))"
   ]
  },
  {
   "cell_type": "code",
   "execution_count": 119,
   "metadata": {},
   "outputs": [
    {
     "data": {
      "text/plain": [
       "<sklearn.metrics._plot.confusion_matrix.ConfusionMatrixDisplay at 0x7ff5538b3760>"
      ]
     },
     "execution_count": 119,
     "metadata": {},
     "output_type": "execute_result"
    },
    {
     "data": {
      "image/png": "[encoded data removed]",
      "text/plain": [
       "<Figure size 432x288 with 2 Axes>"
      ]
     },
     "metadata": {
      "needs_background": "light"
     },
     "output_type": "display_data"
    }
   ],
   "source": [
    "predict = clf.predict(X_test)\n",
    "cm = confusion_matrix(y_test, predict, labels=clf.classes_)\n",
    "disp = ConfusionMatrixDisplay(confusion_matrix=cm, display_labels=clf.classes_)\n",
    "disp.plot()"
   ]
  },
  {
   "cell_type": "code",
   "execution_count": 120,
   "metadata": {},
   "outputs": [
    {
     "name": "stdout",
     "output_type": "stream",
     "text": [
      "Accuracy 0.919937815779246\n",
      "F1-score [0.95766543 0.26428571]\n",
      "              precision    recall  f1-score   support\n",
      "\n",
      "          No       0.95      0.96      0.96      2418\n",
      "         Yes       0.30      0.24      0.26       155\n",
      "\n",
      "    accuracy                           0.92      2573\n",
      "   macro avg       0.62      0.60      0.61      2573\n",
      "weighted avg       0.91      0.92      0.92      2573\n",
      "\n"
     ]
    }
   ],
   "source": [
    "clf = MLPClassifier(hidden_layer_sizes=(200,), activation='tanh', max_iter=400, solver='lbfgs')\n",
    "\n",
    "clf.fit(X_train, y_train)\n",
    "\n",
    "y_pred = clf.predict(X_test)\n",
    "\n",
    "print('Accuracy %s' % accuracy_score(y_test, y_pred))\n",
    "print('F1-score %s' % f1_score(y_test, y_pred, average=None))\n",
    "print(classification_report(y_test, y_pred))"
   ]
  },
  {
   "cell_type": "code",
   "execution_count": 121,
   "metadata": {},
   "outputs": [
    {
     "data": {
      "text/plain": [
       "<sklearn.metrics._plot.confusion_matrix.ConfusionMatrixDisplay at 0x7ff554a71370>"
      ]
     },
     "execution_count": 121,
     "metadata": {},
     "output_type": "execute_result"
    },
    {
     "data": {
      "image/png": "[encoded data removed]",
      "text/plain": [
       "<Figure size 432x288 with 2 Axes>"
      ]
     },
     "metadata": {
      "needs_background": "light"
     },
     "output_type": "display_data"
    }
   ],
   "source": [
    "predict = clf.predict(X_test)\n",
    "cm = confusion_matrix(y_test, predict, labels=clf.classes_)\n",
    "disp = ConfusionMatrixDisplay(confusion_matrix=cm, display_labels=clf.classes_)\n",
    "disp.plot()"
   ]
  },
  {
   "cell_type": "code",
   "execution_count": 122,
   "metadata": {},
   "outputs": [
    {
     "name": "stdout",
     "output_type": "stream",
     "text": [
      "Accuracy 0.919937815779246\n",
      "F1-score [0.95736755 0.34394904]\n",
      "              precision    recall  f1-score   support\n",
      "\n",
      "          No       0.96      0.96      0.96      2418\n",
      "         Yes       0.34      0.35      0.34       155\n",
      "\n",
      "    accuracy                           0.92      2573\n",
      "   macro avg       0.65      0.65      0.65      2573\n",
      "weighted avg       0.92      0.92      0.92      2573\n",
      "\n"
     ]
    }
   ],
   "source": [
    "clf = MLPClassifier(hidden_layer_sizes=(50,50,50), activation='tanh', max_iter=400, solver='lbfgs')\n",
    "\n",
    "clf.fit(X_train, y_train)\n",
    "\n",
    "y_pred = clf.predict(X_test)\n",
    "\n",
    "print('Accuracy %s' % accuracy_score(y_test, y_pred))\n",
    "print('F1-score %s' % f1_score(y_test, y_pred, average=None))\n",
    "print(classification_report(y_test, y_pred))"
   ]
  },
  {
   "cell_type": "code",
   "execution_count": 123,
   "metadata": {},
   "outputs": [
    {
     "data": {
      "text/plain": [
       "<sklearn.metrics._plot.confusion_matrix.ConfusionMatrixDisplay at 0x7ff551800a60>"
      ]
     },
     "execution_count": 123,
     "metadata": {},
     "output_type": "execute_result"
    },
    {
     "data": {
      "image/png": "[encoded data removed]",
      "text/plain": [
       "<Figure size 432x288 with 2 Axes>"
      ]
     },
     "metadata": {
      "needs_background": "light"
     },
     "output_type": "display_data"
    }
   ],
   "source": [
    "predict = clf.predict(X_test)\n",
    "cm = confusion_matrix(y_test, predict, labels=clf.classes_)\n",
    "disp = ConfusionMatrixDisplay(confusion_matrix=cm, display_labels=clf.classes_)\n",
    "disp.plot()"
   ]
  },
  {
   "cell_type": "code",
   "execution_count": 124,
   "metadata": {},
   "outputs": [
    {
     "name": "stdout",
     "output_type": "stream",
     "text": [
      "Accuracy 0.9230470268169452\n",
      "F1-score [0.95917526 0.33108108]\n",
      "              precision    recall  f1-score   support\n",
      "\n",
      "          No       0.96      0.96      0.96      2418\n",
      "         Yes       0.35      0.32      0.33       155\n",
      "\n",
      "    accuracy                           0.92      2573\n",
      "   macro avg       0.65      0.64      0.65      2573\n",
      "weighted avg       0.92      0.92      0.92      2573\n",
      "\n"
     ]
    },
    {
     "name": "stderr",
     "output_type": "stream",
     "text": [
      "/home/damessina/anaconda3/lib/python3.8/site-packages/sklearn/neural_network/_multilayer_perceptron.py:471: ConvergenceWarning: lbfgs failed to converge (status=1):\n",
      "STOP: TOTAL NO. of ITERATIONS REACHED LIMIT.\n",
      "\n",
      "Increase the number of iterations (max_iter) or scale the data as shown in:\n",
      "    https://scikit-learn.org/stable/modules/preprocessing.html\n",
      "  self.n_iter_ = _check_optimize_result(\"lbfgs\", opt_res, self.max_iter)\n"
     ]
    }
   ],
   "source": [
    "clf = MLPClassifier(hidden_layer_sizes=(30,50,100), activation='tanh', max_iter=400, solver='lbfgs')\n",
    "\n",
    "clf.fit(X_train, y_train)\n",
    "\n",
    "y_pred = clf.predict(X_test)\n",
    "\n",
    "print('Accuracy %s' % accuracy_score(y_test, y_pred))\n",
    "print('F1-score %s' % f1_score(y_test, y_pred, average=None))\n",
    "print(classification_report(y_test, y_pred))"
   ]
  },
  {
   "cell_type": "code",
   "execution_count": 125,
   "metadata": {},
   "outputs": [
    {
     "data": {
      "text/plain": [
       "<sklearn.metrics._plot.confusion_matrix.ConfusionMatrixDisplay at 0x7ff5517b3520>"
      ]
     },
     "execution_count": 125,
     "metadata": {},
     "output_type": "execute_result"
    },
    {
     "data": {
      "image/png": "[encoded data removed]",
      "text/plain": [
       "<Figure size 432x288 with 2 Axes>"
      ]
     },
     "metadata": {
      "needs_background": "light"
     },
     "output_type": "display_data"
    }
   ],
   "source": [
    "predict = clf.predict(X_test)\n",
    "cm = confusion_matrix(y_test, predict, labels=clf.classes_)\n",
    "disp = ConfusionMatrixDisplay(confusion_matrix=cm, display_labels=clf.classes_)\n",
    "disp.plot()"
   ]
  },
  {
   "cell_type": "code",
   "execution_count": 126,
   "metadata": {},
   "outputs": [
    {
     "name": "stdout",
     "output_type": "stream",
     "text": [
      "Accuracy 0.9063350174893121\n",
      "F1-score [0.95029903 0.18855219]\n",
      "              precision    recall  f1-score   support\n",
      "\n",
      "          No       0.95      0.95      0.95      2418\n",
      "         Yes       0.20      0.18      0.19       155\n",
      "\n",
      "    accuracy                           0.91      2573\n",
      "   macro avg       0.57      0.57      0.57      2573\n",
      "weighted avg       0.90      0.91      0.90      2573\n",
      "\n"
     ]
    }
   ],
   "source": [
    "clf = MLPClassifier(hidden_layer_sizes=(100,50,300), activation='tanh', max_iter=400, solver='lbfgs')\n",
    "\n",
    "clf.fit(X_train, y_train)\n",
    "\n",
    "y_pred = clf.predict(X_test)\n",
    "\n",
    "print('Accuracy %s' % accuracy_score(y_test, y_pred))\n",
    "print('F1-score %s' % f1_score(y_test, y_pred, average=None))\n",
    "print(classification_report(y_test, y_pred))"
   ]
  },
  {
   "cell_type": "code",
   "execution_count": 127,
   "metadata": {},
   "outputs": [
    {
     "data": {
      "text/plain": [
       "<sklearn.metrics._plot.confusion_matrix.ConfusionMatrixDisplay at 0x7ff5517ea880>"
      ]
     },
     "execution_count": 127,
     "metadata": {},
     "output_type": "execute_result"
    },
    {
     "data": {
      "image/png": "[encoded data removed]",
      "text/plain": [
       "<Figure size 432x288 with 2 Axes>"
      ]
     },
     "metadata": {
      "needs_background": "light"
     },
     "output_type": "display_data"
    }
   ],
   "source": [
    "predict = clf.predict(X_test)\n",
    "cm = confusion_matrix(y_test, predict, labels=clf.classes_)\n",
    "disp = ConfusionMatrixDisplay(confusion_matrix=cm, display_labels=clf.classes_)\n",
    "disp.plot()"
   ]
  },
  {
   "cell_type": "code",
   "execution_count": 128,
   "metadata": {},
   "outputs": [
    {
     "name": "stdout",
     "output_type": "stream",
     "text": [
      "Accuracy 0.916051301982122\n",
      "F1-score [0.95566502 0.21167883]\n",
      "              precision    recall  f1-score   support\n",
      "\n",
      "          No       0.95      0.96      0.96      2418\n",
      "         Yes       0.24      0.19      0.21       155\n",
      "\n",
      "    accuracy                           0.92      2573\n",
      "   macro avg       0.60      0.57      0.58      2573\n",
      "weighted avg       0.91      0.92      0.91      2573\n",
      "\n"
     ]
    }
   ],
   "source": [
    "clf = MLPClassifier(hidden_layer_sizes=(100,100,100), activation='tanh', max_iter=400, solver='lbfgs')\n",
    "\n",
    "clf.fit(X_train, y_train)\n",
    "\n",
    "y_pred = clf.predict(X_test)\n",
    "\n",
    "print('Accuracy %s' % accuracy_score(y_test, y_pred))\n",
    "print('F1-score %s' % f1_score(y_test, y_pred, average=None))\n",
    "print(classification_report(y_test, y_pred))"
   ]
  },
  {
   "cell_type": "code",
   "execution_count": 129,
   "metadata": {},
   "outputs": [
    {
     "data": {
      "text/plain": [
       "<sklearn.metrics._plot.confusion_matrix.ConfusionMatrixDisplay at 0x7ff5517c4820>"
      ]
     },
     "execution_count": 129,
     "metadata": {},
     "output_type": "execute_result"
    },
    {
     "data": {
      "image/png": "[encoded data removed]",
      "text/plain": [
       "<Figure size 432x288 with 2 Axes>"
      ]
     },
     "metadata": {
      "needs_background": "light"
     },
     "output_type": "display_data"
    }
   ],
   "source": [
    "predict = clf.predict(X_test)\n",
    "cm = confusion_matrix(y_test, predict, labels=clf.classes_)\n",
    "disp = ConfusionMatrixDisplay(confusion_matrix=cm, display_labels=clf.classes_)\n",
    "disp.plot()"
   ]
  },
  {
   "cell_type": "code",
   "execution_count": 131,
   "metadata": {},
   "outputs": [
    {
     "name": "stdout",
     "output_type": "stream",
     "text": [
      "Accuracy 0.9176059075009716\n",
      "F1-score [0.9563786  0.25874126]\n",
      "              precision    recall  f1-score   support\n",
      "\n",
      "          No       0.95      0.96      0.96      2418\n",
      "         Yes       0.28      0.24      0.26       155\n",
      "\n",
      "    accuracy                           0.92      2573\n",
      "   macro avg       0.62      0.60      0.61      2573\n",
      "weighted avg       0.91      0.92      0.91      2573\n",
      "\n"
     ]
    }
   ],
   "source": [
    "clf = MLPClassifier(hidden_layer_sizes=(300,), activation='tanh', max_iter=400)\n",
    "\n",
    "clf.fit(X_train, y_train)\n",
    "\n",
    "y_pred = clf.predict(X_test)\n",
    "\n",
    "print('Accuracy %s' % accuracy_score(y_test, y_pred))\n",
    "print('F1-score %s' % f1_score(y_test, y_pred, average=None))\n",
    "print(classification_report(y_test, y_pred))"
   ]
  },
  {
   "cell_type": "code",
   "execution_count": 132,
   "metadata": {},
   "outputs": [
    {
     "name": "stdout",
     "output_type": "stream",
     "text": [
      "Accuracy 0.9148853478429848\n",
      "F1-score [0.95481741 0.26755853]\n",
      "              precision    recall  f1-score   support\n",
      "\n",
      "          No       0.95      0.96      0.95      2418\n",
      "         Yes       0.28      0.26      0.27       155\n",
      "\n",
      "    accuracy                           0.91      2573\n",
      "   macro avg       0.62      0.61      0.61      2573\n",
      "weighted avg       0.91      0.91      0.91      2573\n",
      "\n"
     ]
    }
   ],
   "source": [
    "clf = MLPClassifier(hidden_layer_sizes=(200,), activation='tanh', max_iter=400)\n",
    "\n",
    "clf.fit(X_train, y_train)\n",
    "\n",
    "y_pred = clf.predict(X_test)\n",
    "\n",
    "print('Accuracy %s' % accuracy_score(y_test, y_pred))\n",
    "print('F1-score %s' % f1_score(y_test, y_pred, average=None))\n",
    "print(classification_report(y_test, y_pred))"
   ]
  },
  {
   "cell_type": "code",
   "execution_count": 150,
   "metadata": {},
   "outputs": [
    {
     "name": "stdout",
     "output_type": "stream",
     "text": [
      "Accuracy 0.9195491643995336\n",
      "F1-score [0.9569736  0.38208955]\n",
      "              precision    recall  f1-score   support\n",
      "\n",
      "          No       0.96      0.95      0.96      2418\n",
      "         Yes       0.36      0.41      0.38       155\n",
      "\n",
      "    accuracy                           0.92      2573\n",
      "   macro avg       0.66      0.68      0.67      2573\n",
      "weighted avg       0.93      0.92      0.92      2573\n",
      "\n"
     ]
    }
   ],
   "source": [
    "clf = MLPClassifier(hidden_layer_sizes=(200,), activation='tanh', max_iter=500, solver='lbfgs')\n",
    "\n",
    "clf.fit(X_train, y_train)\n",
    "\n",
    "y_pred = clf.predict(X_test)\n",
    "\n",
    "print('Accuracy %s' % accuracy_score(y_test, y_pred))\n",
    "print('F1-score %s' % f1_score(y_test, y_pred, average=None))\n",
    "print(classification_report(y_test, y_pred))"
   ]
  },
  {
   "cell_type": "code",
   "execution_count": 151,
   "metadata": {},
   "outputs": [
    {
     "data": {
      "text/plain": [
       "<sklearn.metrics._plot.confusion_matrix.ConfusionMatrixDisplay at 0x7ff552e005e0>"
      ]
     },
     "execution_count": 151,
     "metadata": {},
     "output_type": "execute_result"
    },
    {
     "data": {
      "image/png": "[encoded data removed]",
      "text/plain": [
       "<Figure size 432x288 with 2 Axes>"
      ]
     },
     "metadata": {
      "needs_background": "light"
     },
     "output_type": "display_data"
    }
   ],
   "source": [
    "predict = clf.predict(X_test)\n",
    "cm = confusion_matrix(y_test, predict, labels=clf.classes_)\n",
    "disp = ConfusionMatrixDisplay(confusion_matrix=cm, display_labels=clf.classes_)\n",
    "disp.plot()"
   ]
  },
  {
   "cell_type": "code",
   "execution_count": 159,
   "metadata": {},
   "outputs": [
    {
     "name": "stdout",
     "output_type": "stream",
     "text": [
      "Accuracy 0.9203264671589584\n",
      "F1-score [0.95688749 0.47570332]\n",
      "              precision    recall  f1-score   support\n",
      "\n",
      "          No       0.97      0.94      0.96      2418\n",
      "         Yes       0.39      0.60      0.48       155\n",
      "\n",
      "    accuracy                           0.92      2573\n",
      "   macro avg       0.68      0.77      0.72      2573\n",
      "weighted avg       0.94      0.92      0.93      2573\n",
      "\n"
     ]
    }
   ],
   "source": [
    "clf1 = MLPClassifier(hidden_layer_sizes=(300,), activation='tanh', max_iter=500, solver='lbfgs')\n",
    "\n",
    "clf1.fit(X_train, y_train)\n",
    "\n",
    "y_pred = clf1.predict(X_test)\n",
    "\n",
    "print('Accuracy %s' % accuracy_score(y_test, y_pred))\n",
    "print('F1-score %s' % f1_score(y_test, y_pred, average=None))\n",
    "print(classification_report(y_test, y_pred))"
   ]
  },
  {
   "cell_type": "code",
   "execution_count": 161,
   "metadata": {},
   "outputs": [
    {
     "data": {
      "text/plain": [
       "<sklearn.metrics._plot.confusion_matrix.ConfusionMatrixDisplay at 0x7ff5518c1d90>"
      ]
     },
     "execution_count": 161,
     "metadata": {},
     "output_type": "execute_result"
    },
    {
     "data": {
      "image/png": "[encoded data removed]",
      "text/plain": [
       "<Figure size 432x288 with 2 Axes>"
      ]
     },
     "metadata": {
      "needs_background": "light"
     },
     "output_type": "display_data"
    }
   ],
   "source": [
    "predict = clf1.predict(X_test)\n",
    "cm = confusion_matrix(y_test, predict, labels=clf.classes_)\n",
    "disp = ConfusionMatrixDisplay(confusion_matrix=cm, display_labels=clf.classes_)\n",
    "disp.plot()"
   ]
  },
  {
   "cell_type": "code",
   "execution_count": 162,
   "metadata": {},
   "outputs": [
    {
     "data": {
      "text/plain": [
       "Text(0.5, 1.0, 'Cumultive Gain Chart')"
      ]
     },
     "execution_count": 162,
     "metadata": {},
     "output_type": "execute_result"
    },
    {
     "data": {
      "image/png": "[encoded data removed]",
      "text/plain": [
       "<Figure size 432x288 with 1 Axes>"
      ]
     },
     "metadata": {
      "needs_background": "light"
     },
     "output_type": "display_data"
    }
   ],
   "source": [
    "predicted_probabilities = clf1.predict_proba(X_test)\n",
    "# Creating the plot\n",
    "skplt.metrics.plot_cumulative_gain(y_test, predicted_probabilities)\n",
    "plt.title(\"Cumultive Gain Chart\")"
   ]
  },
  {
   "cell_type": "code",
   "execution_count": 163,
   "metadata": {},
   "outputs": [
    {
     "data": {
      "image/png": "[encoded data removed]",
      "text/plain": [
       "<Figure size 720x504 with 1 Axes>"
      ]
     },
     "metadata": {
      "needs_background": "light"
     },
     "output_type": "display_data"
    }
   ],
   "source": [
    "lb = LabelBinarizer()\n",
    "lb.fit(y_test)\n",
    "lb.classes_.tolist()\n",
    "\n",
    "fpr = dict()\n",
    "tpr = dict()\n",
    "roc_auc = dict()\n",
    "by_test_bin= lb.transform(y_test)\n",
    "by_pred_bin = lb.transform(y_pred)\n",
    "by_test = np.hstack((by_test_bin, 1 - by_test_bin))\n",
    "by_pred = np.hstack((by_pred_bin, 1 - by_pred_bin))\n",
    "\n",
    "for i in range(2):\n",
    "    fpr[i], tpr[i], _ = roc_curve(by_test[:, i], by_pred[:, i])\n",
    "    roc_auc[i] = auc(fpr[i], tpr[i])\n",
    "    \n",
    "roc_auc = roc_auc_score(by_test, by_pred, average=None)\n",
    "roc_auc\n",
    "plt.figure(figsize=(10, 7))\n",
    "for i in range(2):\n",
    "    plt.plot(fpr[i], tpr[i], \n",
    "             label='%s ROC curve (area = %0.2f)' % (lb.classes_.tolist()[i], roc_auc[i]))\n",
    "    \n",
    "plt.plot([0, 1], [0, 1], 'k--')\n",
    "plt.xlim([-0.01, 1.05])\n",
    "plt.ylim([-0.01, 1.05])\n",
    "plt.xlabel('False Positive Rate', fontsize=15)\n",
    "plt.ylabel('True Positive Rate', fontsize=15) \n",
    "plt.tick_params(axis='both', which='major', labelsize=15)\n",
    "plt.legend(loc=\"lower right\", fontsize=12, frameon=False)\n",
    "plt.show()"
   ]
  },
  {
   "cell_type": "code",
   "execution_count": 165,
   "metadata": {},
   "outputs": [
    {
     "name": "stdout",
     "output_type": "stream",
     "text": [
      "Accuracy: 0.8740 (+/- 0.16)\n",
      "F1-score: 0.5421 (+/- 0.09)\n",
      "Recall: 0.5798 (+/- 0.12)\n"
     ]
    }
   ],
   "source": [
    "df_cross = df\n",
    "# modifico i valori Yes e No con 1 e 0 perché sennò il modello non riesce a fittare\n",
    "#df_cross.replace({'artist_wikipedia_page' : {'Yes' : 1, 'No' : 0}}, inplace = True)\n",
    "#df_cross.drop(columns=['split'], inplace = True)\n",
    "attributes = [col for col in df.columns if col != 'artist_wikipedia_page']\n",
    "X = df_cross[attributes].values\n",
    "y = df_cross['artist_wikipedia_page']\n",
    "X = scaler.fit_transform(X)\n",
    "\n",
    "scores = cross_val_score(clf1, X, y, cv=6)\n",
    "print('Accuracy: %0.4f (+/- %0.2f)' % (scores.mean(), scores.std() * 2))\n",
    "\n",
    "scores = cross_val_score(clf1, X, y, cv=6, scoring='f1_macro')\n",
    "print('F1-score: %0.4f (+/- %0.2f)' % (scores.mean(), scores.std() * 2))\n",
    "\n",
    "scores = cross_val_score(clf1, X, y, cv=6, scoring='recall_macro')\n",
    "print('Recall: %0.4f (+/- %0.2f)' % (scores.mean(), scores.std() * 2))"
   ]
  },
  {
   "cell_type": "code",
   "execution_count": null,
   "metadata": {},
   "outputs": [],
   "source": []
  }
 ],
 "metadata": {
  "kernelspec": {
   "display_name": "Python 3",
   "language": "python",
   "name": "python3"
  },
  "language_info": {
   "codemirror_mode": {
    "name": "ipython",
    "version": 3
   },
   "file_extension": ".py",
   "mimetype": "text/x-python",
   "name": "python",
   "nbconvert_exporter": "python",
   "pygments_lexer": "ipython3",
   "version": "3.8.5"
  }
 },
 "nbformat": 4,
 "nbformat_minor": 4
}