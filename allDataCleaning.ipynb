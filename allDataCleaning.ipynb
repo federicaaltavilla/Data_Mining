{
 "cells": [
  {
   "cell_type": "markdown",
   "metadata": {},
   "source": [
    "# Data cleaning for IBM-HR\n",
    "\n",
    "Non eliminare le righe, per favore!"
   ]
  },
  {
   "cell_type": "code",
   "execution_count": 108,
   "metadata": {},
   "outputs": [],
   "source": [
    "# import libraries\n",
    "import pandas as pd\n",
    "import numpy as np"
   ]
  },
  {
   "cell_type": "code",
   "execution_count": 109,
   "metadata": {},
   "outputs": [],
   "source": [
    "# concatenate two data sets\n",
    "df1 = pd.read_csv('/home/damessina/Desktop/project_dataset/DatasetProject1/test.csv') #path file train\n",
    "df2 = pd.read_csv('/home/damessina/Desktop/project_dataset/DatasetProject1/train.csv', header=0) #path file test\n",
    "df = pd.concat([df1, df2], ignore_index=True)"
   ]
  },
  {
   "cell_type": "code",
   "execution_count": 110,
   "metadata": {},
   "outputs": [
    {
     "name": "stdout",
     "output_type": "stream",
     "text": [
      "1470\n",
      "33\n"
     ]
    },
    {
     "data": {
      "text/html": [
       "<div>\n",
       "<style scoped>\n",
       "    .dataframe tbody tr th:only-of-type {\n",
       "        vertical-align: middle;\n",
       "    }\n",
       "\n",
       "    .dataframe tbody tr th {\n",
       "        vertical-align: top;\n",
       "    }\n",
       "\n",
       "    .dataframe thead th {\n",
       "        text-align: right;\n",
       "    }\n",
       "</style>\n",
       "<table border=\"1\" class=\"dataframe\">\n",
       "  <thead>\n",
       "    <tr style=\"text-align: right;\">\n",
       "      <th></th>\n",
       "      <th>Age</th>\n",
       "      <th>Attrition</th>\n",
       "      <th>BusinessTravel</th>\n",
       "      <th>DailyRate</th>\n",
       "      <th>Department</th>\n",
       "      <th>DistanceFromHome</th>\n",
       "      <th>Education</th>\n",
       "      <th>EducationField</th>\n",
       "      <th>EnvironmentSatisfaction</th>\n",
       "      <th>Gender</th>\n",
       "      <th>...</th>\n",
       "      <th>RelationshipSatisfaction</th>\n",
       "      <th>StandardHours</th>\n",
       "      <th>StockOptionLevel</th>\n",
       "      <th>TotalWorkingYears</th>\n",
       "      <th>TrainingTimesLastYear</th>\n",
       "      <th>WorkLifeBalance</th>\n",
       "      <th>YearsAtCompany</th>\n",
       "      <th>YearsInCurrentRole</th>\n",
       "      <th>YearsSinceLastPromotion</th>\n",
       "      <th>YearsWithCurrManager</th>\n",
       "    </tr>\n",
       "  </thead>\n",
       "  <tbody>\n",
       "    <tr>\n",
       "      <th>1465</th>\n",
       "      <td>37.0</td>\n",
       "      <td>No</td>\n",
       "      <td>Travel_Rarely</td>\n",
       "      <td>1123</td>\n",
       "      <td>Research &amp; Development</td>\n",
       "      <td>16</td>\n",
       "      <td>2</td>\n",
       "      <td>Medical</td>\n",
       "      <td>4</td>\n",
       "      <td>Female</td>\n",
       "      <td>...</td>\n",
       "      <td>2</td>\n",
       "      <td>80.0</td>\n",
       "      <td>2</td>\n",
       "      <td>1</td>\n",
       "      <td>3.0</td>\n",
       "      <td>2</td>\n",
       "      <td>17.0</td>\n",
       "      <td>0</td>\n",
       "      <td>0</td>\n",
       "      <td>0</td>\n",
       "    </tr>\n",
       "    <tr>\n",
       "      <th>1466</th>\n",
       "      <td>33.0</td>\n",
       "      <td>Yes</td>\n",
       "      <td>Non-Travel</td>\n",
       "      <td>249</td>\n",
       "      <td>Sales</td>\n",
       "      <td>6</td>\n",
       "      <td>4</td>\n",
       "      <td>Life Sciences</td>\n",
       "      <td>2</td>\n",
       "      <td>Female</td>\n",
       "      <td>...</td>\n",
       "      <td>2</td>\n",
       "      <td>80.0</td>\n",
       "      <td>0</td>\n",
       "      <td>12</td>\n",
       "      <td>2.0</td>\n",
       "      <td>2</td>\n",
       "      <td>11.0</td>\n",
       "      <td>7</td>\n",
       "      <td>7</td>\n",
       "      <td>7</td>\n",
       "    </tr>\n",
       "    <tr>\n",
       "      <th>1467</th>\n",
       "      <td>33.0</td>\n",
       "      <td>No</td>\n",
       "      <td>NaN</td>\n",
       "      <td>583</td>\n",
       "      <td>Sales</td>\n",
       "      <td>4</td>\n",
       "      <td>1</td>\n",
       "      <td>Marketing</td>\n",
       "      <td>3</td>\n",
       "      <td>Male</td>\n",
       "      <td>...</td>\n",
       "      <td>1</td>\n",
       "      <td>80.0</td>\n",
       "      <td>0</td>\n",
       "      <td>5</td>\n",
       "      <td>2.0</td>\n",
       "      <td>4</td>\n",
       "      <td>3.0</td>\n",
       "      <td>2</td>\n",
       "      <td>0</td>\n",
       "      <td>3</td>\n",
       "    </tr>\n",
       "    <tr>\n",
       "      <th>1468</th>\n",
       "      <td>45.0</td>\n",
       "      <td>No</td>\n",
       "      <td>Non-Travel</td>\n",
       "      <td>1174</td>\n",
       "      <td>Sales</td>\n",
       "      <td>3</td>\n",
       "      <td>4</td>\n",
       "      <td>Marketing</td>\n",
       "      <td>1</td>\n",
       "      <td>Male</td>\n",
       "      <td>...</td>\n",
       "      <td>4</td>\n",
       "      <td>80.0</td>\n",
       "      <td>0</td>\n",
       "      <td>15</td>\n",
       "      <td>2.0</td>\n",
       "      <td>3</td>\n",
       "      <td>10.0</td>\n",
       "      <td>4</td>\n",
       "      <td>0</td>\n",
       "      <td>1</td>\n",
       "    </tr>\n",
       "    <tr>\n",
       "      <th>1469</th>\n",
       "      <td>48.0</td>\n",
       "      <td>No</td>\n",
       "      <td>Travel_Frequently</td>\n",
       "      <td>1431</td>\n",
       "      <td>Research &amp; Development</td>\n",
       "      <td>14</td>\n",
       "      <td>3</td>\n",
       "      <td>Medical</td>\n",
       "      <td>2</td>\n",
       "      <td>Female</td>\n",
       "      <td>...</td>\n",
       "      <td>3</td>\n",
       "      <td>80.0</td>\n",
       "      <td>0</td>\n",
       "      <td>0</td>\n",
       "      <td>NaN</td>\n",
       "      <td>1</td>\n",
       "      <td>22.0</td>\n",
       "      <td>0</td>\n",
       "      <td>0</td>\n",
       "      <td>0</td>\n",
       "    </tr>\n",
       "  </tbody>\n",
       "</table>\n",
       "<p>5 rows × 33 columns</p>\n",
       "</div>"
      ],
      "text/plain": [
       "       Age Attrition     BusinessTravel  DailyRate              Department  \\\n",
       "1465  37.0        No      Travel_Rarely       1123  Research & Development   \n",
       "1466  33.0       Yes         Non-Travel        249                   Sales   \n",
       "1467  33.0        No                NaN        583                   Sales   \n",
       "1468  45.0        No         Non-Travel       1174                   Sales   \n",
       "1469  48.0        No  Travel_Frequently       1431  Research & Development   \n",
       "\n",
       "      DistanceFromHome  Education EducationField  EnvironmentSatisfaction  \\\n",
       "1465                16          2        Medical                        4   \n",
       "1466                 6          4  Life Sciences                        2   \n",
       "1467                 4          1      Marketing                        3   \n",
       "1468                 3          4      Marketing                        1   \n",
       "1469                14          3        Medical                        2   \n",
       "\n",
       "      Gender  ...  RelationshipSatisfaction  StandardHours  StockOptionLevel  \\\n",
       "1465  Female  ...                         2           80.0                 2   \n",
       "1466  Female  ...                         2           80.0                 0   \n",
       "1467    Male  ...                         1           80.0                 0   \n",
       "1468    Male  ...                         4           80.0                 0   \n",
       "1469  Female  ...                         3           80.0                 0   \n",
       "\n",
       "     TotalWorkingYears  TrainingTimesLastYear WorkLifeBalance  YearsAtCompany  \\\n",
       "1465                 1                    3.0               2            17.0   \n",
       "1466                12                    2.0               2            11.0   \n",
       "1467                 5                    2.0               4             3.0   \n",
       "1468                15                    2.0               3            10.0   \n",
       "1469                 0                    NaN               1            22.0   \n",
       "\n",
       "      YearsInCurrentRole  YearsSinceLastPromotion YearsWithCurrManager  \n",
       "1465                   0                        0                    0  \n",
       "1466                   7                        7                    7  \n",
       "1467                   2                        0                    3  \n",
       "1468                   4                        0                    1  \n",
       "1469                   0                        0                    0  \n",
       "\n",
       "[5 rows x 33 columns]"
      ]
     },
     "execution_count": 110,
     "metadata": {},
     "output_type": "execute_result"
    }
   ],
   "source": [
    "# Number of observations\n",
    "print(df.index.size)\n",
    "# Number of attributes\n",
    "print(df.columns.size)\n",
    "# Check if indices were imposted right\n",
    "df.tail()"
   ]
  },
  {
   "cell_type": "code",
   "execution_count": 111,
   "metadata": {},
   "outputs": [
    {
     "data": {
      "text/plain": [
       "array(['Male', 'Female', nan], dtype=object)"
      ]
     },
     "execution_count": 111,
     "metadata": {},
     "output_type": "execute_result"
    }
   ],
   "source": [
    "df['Gender'].unique()"
   ]
  },
  {
   "cell_type": "markdown",
   "metadata": {},
   "source": [
    "## YearsAtCompany"
   ]
  },
  {
   "cell_type": "code",
   "execution_count": 112,
   "metadata": {},
   "outputs": [
    {
     "data": {
      "text/plain": [
       "0"
      ]
     },
     "execution_count": 112,
     "metadata": {},
     "output_type": "execute_result"
    }
   ],
   "source": [
    "# susbsitute missing values of YearsAtCompany with values of YearsInCurrentRole\n",
    "for i,ii in enumerate(df['YearsAtCompany']):\n",
    "    if np.isnan(ii)==True: df.replace(df['YearsAtCompany'][i],\n",
    "                                      df['YearsInCurrentRole'][i],\n",
    "                                      inplace=True)\n",
    "# check null values\n",
    "df['YearsAtCompany'].isnull().sum()"
   ]
  },
  {
   "cell_type": "markdown",
   "metadata": {},
   "source": [
    "## MonthlyIncome"
   ]
  },
  {
   "cell_type": "code",
   "execution_count": 113,
   "metadata": {},
   "outputs": [
    {
     "data": {
      "text/html": [
       "<div>\n",
       "<style scoped>\n",
       "    .dataframe tbody tr th:only-of-type {\n",
       "        vertical-align: middle;\n",
       "    }\n",
       "\n",
       "    .dataframe tbody tr th {\n",
       "        vertical-align: top;\n",
       "    }\n",
       "\n",
       "    .dataframe thead th {\n",
       "        text-align: right;\n",
       "    }\n",
       "</style>\n",
       "<table border=\"1\" class=\"dataframe\">\n",
       "  <thead>\n",
       "    <tr style=\"text-align: right;\">\n",
       "      <th></th>\n",
       "      <th>YearsAtCompany</th>\n",
       "      <th>MonthlyIncome</th>\n",
       "      <th>MonthIncomeFill</th>\n",
       "    </tr>\n",
       "  </thead>\n",
       "  <tbody>\n",
       "    <tr>\n",
       "      <th>0</th>\n",
       "      <td>2.0</td>\n",
       "      <td>4298.0</td>\n",
       "      <td>4298.0</td>\n",
       "    </tr>\n",
       "    <tr>\n",
       "      <th>1</th>\n",
       "      <td>8.0</td>\n",
       "      <td>5304.0</td>\n",
       "      <td>5304.0</td>\n",
       "    </tr>\n",
       "    <tr>\n",
       "      <th>2</th>\n",
       "      <td>13.0</td>\n",
       "      <td>6306.0</td>\n",
       "      <td>6306.0</td>\n",
       "    </tr>\n",
       "    <tr>\n",
       "      <th>3</th>\n",
       "      <td>3.0</td>\n",
       "      <td>6430.0</td>\n",
       "      <td>6430.0</td>\n",
       "    </tr>\n",
       "    <tr>\n",
       "      <th>4</th>\n",
       "      <td>5.0</td>\n",
       "      <td>2766.0</td>\n",
       "      <td>2766.0</td>\n",
       "    </tr>\n",
       "    <tr>\n",
       "      <th>5</th>\n",
       "      <td>20.0</td>\n",
       "      <td>4332.0</td>\n",
       "      <td>4332.0</td>\n",
       "    </tr>\n",
       "    <tr>\n",
       "      <th>6</th>\n",
       "      <td>20.0</td>\n",
       "      <td>5605.0</td>\n",
       "      <td>5605.0</td>\n",
       "    </tr>\n",
       "    <tr>\n",
       "      <th>7</th>\n",
       "      <td>5.0</td>\n",
       "      <td>4440.0</td>\n",
       "      <td>4440.0</td>\n",
       "    </tr>\n",
       "    <tr>\n",
       "      <th>8</th>\n",
       "      <td>3.0</td>\n",
       "      <td>8865.0</td>\n",
       "      <td>8865.0</td>\n",
       "    </tr>\n",
       "    <tr>\n",
       "      <th>9</th>\n",
       "      <td>1.0</td>\n",
       "      <td>3.0</td>\n",
       "      <td>3.0</td>\n",
       "    </tr>\n",
       "    <tr>\n",
       "      <th>10</th>\n",
       "      <td>3.0</td>\n",
       "      <td>8008.0</td>\n",
       "      <td>8008.0</td>\n",
       "    </tr>\n",
       "    <tr>\n",
       "      <th>11</th>\n",
       "      <td>5.0</td>\n",
       "      <td>6583.0</td>\n",
       "      <td>6583.0</td>\n",
       "    </tr>\n",
       "    <tr>\n",
       "      <th>12</th>\n",
       "      <td>5.0</td>\n",
       "      <td>2238.0</td>\n",
       "      <td>2238.0</td>\n",
       "    </tr>\n",
       "    <tr>\n",
       "      <th>13</th>\n",
       "      <td>0.0</td>\n",
       "      <td>1420.0</td>\n",
       "      <td>1420.0</td>\n",
       "    </tr>\n",
       "    <tr>\n",
       "      <th>14</th>\n",
       "      <td>3.0</td>\n",
       "      <td>4171.0</td>\n",
       "      <td>4171.0</td>\n",
       "    </tr>\n",
       "    <tr>\n",
       "      <th>15</th>\n",
       "      <td>14.0</td>\n",
       "      <td>6687.0</td>\n",
       "      <td>6687.0</td>\n",
       "    </tr>\n",
       "    <tr>\n",
       "      <th>16</th>\n",
       "      <td>3.0</td>\n",
       "      <td>4876.0</td>\n",
       "      <td>4876.0</td>\n",
       "    </tr>\n",
       "    <tr>\n",
       "      <th>17</th>\n",
       "      <td>16.0</td>\n",
       "      <td>8095.0</td>\n",
       "      <td>8095.0</td>\n",
       "    </tr>\n",
       "    <tr>\n",
       "      <th>18</th>\n",
       "      <td>22.0</td>\n",
       "      <td>13770.0</td>\n",
       "      <td>13770.0</td>\n",
       "    </tr>\n",
       "    <tr>\n",
       "      <th>19</th>\n",
       "      <td>10.0</td>\n",
       "      <td>3.0</td>\n",
       "      <td>3.0</td>\n",
       "    </tr>\n",
       "    <tr>\n",
       "      <th>20</th>\n",
       "      <td>1.0</td>\n",
       "      <td>2404.0</td>\n",
       "      <td>2404.0</td>\n",
       "    </tr>\n",
       "    <tr>\n",
       "      <th>21</th>\n",
       "      <td>5.0</td>\n",
       "      <td>4741.0</td>\n",
       "      <td>4741.0</td>\n",
       "    </tr>\n",
       "    <tr>\n",
       "      <th>22</th>\n",
       "      <td>3.0</td>\n",
       "      <td>2302.0</td>\n",
       "      <td>2302.0</td>\n",
       "    </tr>\n",
       "    <tr>\n",
       "      <th>23</th>\n",
       "      <td>8.0</td>\n",
       "      <td>4420.0</td>\n",
       "      <td>4420.0</td>\n",
       "    </tr>\n",
       "    <tr>\n",
       "      <th>24</th>\n",
       "      <td>21.0</td>\n",
       "      <td>19436.0</td>\n",
       "      <td>19436.0</td>\n",
       "    </tr>\n",
       "    <tr>\n",
       "      <th>25</th>\n",
       "      <td>29.0</td>\n",
       "      <td>19847.0</td>\n",
       "      <td>19847.0</td>\n",
       "    </tr>\n",
       "    <tr>\n",
       "      <th>26</th>\n",
       "      <td>10.0</td>\n",
       "      <td>5415.0</td>\n",
       "      <td>5415.0</td>\n",
       "    </tr>\n",
       "    <tr>\n",
       "      <th>27</th>\n",
       "      <td>1.0</td>\n",
       "      <td>3.0</td>\n",
       "      <td>3.0</td>\n",
       "    </tr>\n",
       "    <tr>\n",
       "      <th>28</th>\n",
       "      <td>4.0</td>\n",
       "      <td>4115.0</td>\n",
       "      <td>4115.0</td>\n",
       "    </tr>\n",
       "    <tr>\n",
       "      <th>29</th>\n",
       "      <td>1.0</td>\n",
       "      <td>1393.0</td>\n",
       "      <td>1393.0</td>\n",
       "    </tr>\n",
       "    <tr>\n",
       "      <th>30</th>\n",
       "      <td>10.0</td>\n",
       "      <td>19636.0</td>\n",
       "      <td>19636.0</td>\n",
       "    </tr>\n",
       "    <tr>\n",
       "      <th>31</th>\n",
       "      <td>7.0</td>\n",
       "      <td>18606.0</td>\n",
       "      <td>18606.0</td>\n",
       "    </tr>\n",
       "    <tr>\n",
       "      <th>32</th>\n",
       "      <td>3.0</td>\n",
       "      <td>4941.0</td>\n",
       "      <td>4941.0</td>\n",
       "    </tr>\n",
       "    <tr>\n",
       "      <th>33</th>\n",
       "      <td>5.0</td>\n",
       "      <td>6667.0</td>\n",
       "      <td>6667.0</td>\n",
       "    </tr>\n",
       "    <tr>\n",
       "      <th>34</th>\n",
       "      <td>2.0</td>\n",
       "      <td>2523.0</td>\n",
       "      <td>2523.0</td>\n",
       "    </tr>\n",
       "    <tr>\n",
       "      <th>35</th>\n",
       "      <td>3.0</td>\n",
       "      <td>4601.0</td>\n",
       "      <td>4601.0</td>\n",
       "    </tr>\n",
       "    <tr>\n",
       "      <th>36</th>\n",
       "      <td>3.0</td>\n",
       "      <td>2321.0</td>\n",
       "      <td>2321.0</td>\n",
       "    </tr>\n",
       "    <tr>\n",
       "      <th>37</th>\n",
       "      <td>19.0</td>\n",
       "      <td>13695.0</td>\n",
       "      <td>13695.0</td>\n",
       "    </tr>\n",
       "    <tr>\n",
       "      <th>38</th>\n",
       "      <td>3.0</td>\n",
       "      <td>4084.0</td>\n",
       "      <td>4084.0</td>\n",
       "    </tr>\n",
       "    <tr>\n",
       "      <th>39</th>\n",
       "      <td>4.0</td>\n",
       "      <td>3041.0</td>\n",
       "      <td>3041.0</td>\n",
       "    </tr>\n",
       "  </tbody>\n",
       "</table>\n",
       "</div>"
      ],
      "text/plain": [
       "    YearsAtCompany  MonthlyIncome  MonthIncomeFill\n",
       "0              2.0         4298.0           4298.0\n",
       "1              8.0         5304.0           5304.0\n",
       "2             13.0         6306.0           6306.0\n",
       "3              3.0         6430.0           6430.0\n",
       "4              5.0         2766.0           2766.0\n",
       "5             20.0         4332.0           4332.0\n",
       "6             20.0         5605.0           5605.0\n",
       "7              5.0         4440.0           4440.0\n",
       "8              3.0         8865.0           8865.0\n",
       "9              1.0            3.0              3.0\n",
       "10             3.0         8008.0           8008.0\n",
       "11             5.0         6583.0           6583.0\n",
       "12             5.0         2238.0           2238.0\n",
       "13             0.0         1420.0           1420.0\n",
       "14             3.0         4171.0           4171.0\n",
       "15            14.0         6687.0           6687.0\n",
       "16             3.0         4876.0           4876.0\n",
       "17            16.0         8095.0           8095.0\n",
       "18            22.0        13770.0          13770.0\n",
       "19            10.0            3.0              3.0\n",
       "20             1.0         2404.0           2404.0\n",
       "21             5.0         4741.0           4741.0\n",
       "22             3.0         2302.0           2302.0\n",
       "23             8.0         4420.0           4420.0\n",
       "24            21.0        19436.0          19436.0\n",
       "25            29.0        19847.0          19847.0\n",
       "26            10.0         5415.0           5415.0\n",
       "27             1.0            3.0              3.0\n",
       "28             4.0         4115.0           4115.0\n",
       "29             1.0         1393.0           1393.0\n",
       "30            10.0        19636.0          19636.0\n",
       "31             7.0        18606.0          18606.0\n",
       "32             3.0         4941.0           4941.0\n",
       "33             5.0         6667.0           6667.0\n",
       "34             2.0         2523.0           2523.0\n",
       "35             3.0         4601.0           4601.0\n",
       "36             3.0         2321.0           2321.0\n",
       "37            19.0        13695.0          13695.0\n",
       "38             3.0         4084.0           4084.0\n",
       "39             4.0         3041.0           3041.0"
      ]
     },
     "execution_count": 113,
     "metadata": {},
     "output_type": "execute_result"
    }
   ],
   "source": [
    "# mask that group values at YearsAtCompay by 5 | Divide all workers that are working 1-5 years, 5-10, 10-15 and so on\n",
    "five_years = (df['YearsAtCompany'] // 5) + 1\n",
    "# create a new column and fill the missing value of MonthlyIncome with median value of group\n",
    "df[\"MonthIncomeFill\"] = df.groupby(five_years)[\"MonthlyIncome\"].transform(lambda x: x.fillna(x.median()))\n",
    "# check that everything is fine, non-missing values should be same\n",
    "df[['YearsAtCompany', 'MonthlyIncome', 'MonthIncomeFill']][0:40]"
   ]
  },
  {
   "cell_type": "code",
   "execution_count": 114,
   "metadata": {},
   "outputs": [
    {
     "data": {
      "text/plain": [
       "0"
      ]
     },
     "execution_count": 114,
     "metadata": {},
     "output_type": "execute_result"
    }
   ],
   "source": [
    "# drop the column with missing values\n",
    "df = df.drop('MonthlyIncome', 1)\n",
    "# rename new column with old name\n",
    "df = df.rename(columns={\"MonthIncomeFill\": \"MonthlyIncome\"})\n",
    "# check null values\n",
    "df['MonthlyIncome'].isnull().sum()"
   ]
  },
  {
   "cell_type": "markdown",
   "metadata": {},
   "source": [
    "## Performance rating"
   ]
  },
  {
   "cell_type": "code",
   "execution_count": 115,
   "metadata": {},
   "outputs": [],
   "source": [
    "# susbsitute missing values of PerformingRating with values 3 and 4 keeping the proportion\n",
    "df['PerformanceRatingFill'] = df['PerformanceRating'].fillna(pd.Series(np.random.choice([3, 4], \n",
    "                                                      p=[0.85, 0.15], size=len(df.index))))"
   ]
  },
  {
   "cell_type": "code",
   "execution_count": 116,
   "metadata": {},
   "outputs": [
    {
     "data": {
      "text/plain": [
       "0"
      ]
     },
     "execution_count": 116,
     "metadata": {},
     "output_type": "execute_result"
    }
   ],
   "source": [
    "# drop the column PerformanceRating\n",
    "df = df.drop('PerformanceRating', 1)\n",
    "# rename new column with old name\n",
    "df = df.rename(columns={\"PerformanceRatingFill\": \"PerformanceRating\"})\n",
    "# check null values\n",
    "df['PerformanceRating'].isnull().sum()"
   ]
  },
  {
   "cell_type": "markdown",
   "metadata": {},
   "source": [
    "## TrainingTimesLastYear"
   ]
  },
  {
   "cell_type": "code",
   "execution_count": 117,
   "metadata": {},
   "outputs": [],
   "source": [
    "#grouping column it is useful to discrete the variable YearsAtCompany\n",
    "grouping=[]  \n",
    "\n",
    "for row in df['YearsAtCompany']:\n",
    "    if row <=5:\n",
    "        grouping.append(5)\n",
    "    elif row <=10:\n",
    "        grouping.append(10)\n",
    "    elif row <=15:\n",
    "        grouping.append(15)\n",
    "    elif row <=20:\n",
    "        grouping.append(20)\n",
    "    elif row <=25:\n",
    "        grouping.append(25)\n",
    "    else:\n",
    "        grouping.append(30)\n",
    "\n",
    "#convert a list into a Series and add it to the df\n",
    "df['grouping']=grouping"
   ]
  },
  {
   "cell_type": "code",
   "execution_count": 118,
   "metadata": {},
   "outputs": [
    {
     "data": {
      "text/html": [
       "<div>\n",
       "<style scoped>\n",
       "    .dataframe tbody tr th:only-of-type {\n",
       "        vertical-align: middle;\n",
       "    }\n",
       "\n",
       "    .dataframe tbody tr th {\n",
       "        vertical-align: top;\n",
       "    }\n",
       "\n",
       "    .dataframe thead th {\n",
       "        text-align: right;\n",
       "    }\n",
       "</style>\n",
       "<table border=\"1\" class=\"dataframe\">\n",
       "  <thead>\n",
       "    <tr style=\"text-align: right;\">\n",
       "      <th>JobRole</th>\n",
       "      <th>Healthcare Representative</th>\n",
       "      <th>Human Resources</th>\n",
       "      <th>Laboratory Technician</th>\n",
       "      <th>Manager</th>\n",
       "      <th>Manufacturing Director</th>\n",
       "      <th>Research Director</th>\n",
       "      <th>Research Scientist</th>\n",
       "      <th>Sales Executive</th>\n",
       "      <th>Sales Representative</th>\n",
       "    </tr>\n",
       "    <tr>\n",
       "      <th>grouping</th>\n",
       "      <th></th>\n",
       "      <th></th>\n",
       "      <th></th>\n",
       "      <th></th>\n",
       "      <th></th>\n",
       "      <th></th>\n",
       "      <th></th>\n",
       "      <th></th>\n",
       "      <th></th>\n",
       "    </tr>\n",
       "  </thead>\n",
       "  <tbody>\n",
       "    <tr>\n",
       "      <th>5</th>\n",
       "      <td>3.0</td>\n",
       "      <td>3.0</td>\n",
       "      <td>3.0</td>\n",
       "      <td>3.0</td>\n",
       "      <td>3.0</td>\n",
       "      <td>3.0</td>\n",
       "      <td>3.0</td>\n",
       "      <td>3.0</td>\n",
       "      <td>3.0</td>\n",
       "    </tr>\n",
       "    <tr>\n",
       "      <th>10</th>\n",
       "      <td>3.0</td>\n",
       "      <td>3.0</td>\n",
       "      <td>3.0</td>\n",
       "      <td>3.0</td>\n",
       "      <td>3.0</td>\n",
       "      <td>3.0</td>\n",
       "      <td>3.0</td>\n",
       "      <td>3.0</td>\n",
       "      <td>3.0</td>\n",
       "    </tr>\n",
       "    <tr>\n",
       "      <th>15</th>\n",
       "      <td>3.0</td>\n",
       "      <td>2.0</td>\n",
       "      <td>3.0</td>\n",
       "      <td>2.0</td>\n",
       "      <td>3.0</td>\n",
       "      <td>4.0</td>\n",
       "      <td>3.0</td>\n",
       "      <td>2.0</td>\n",
       "      <td>3.0</td>\n",
       "    </tr>\n",
       "    <tr>\n",
       "      <th>20</th>\n",
       "      <td>3.0</td>\n",
       "      <td>2.0</td>\n",
       "      <td>3.0</td>\n",
       "      <td>2.0</td>\n",
       "      <td>2.0</td>\n",
       "      <td>2.0</td>\n",
       "      <td>3.0</td>\n",
       "      <td>3.0</td>\n",
       "      <td>3.0</td>\n",
       "    </tr>\n",
       "    <tr>\n",
       "      <th>25</th>\n",
       "      <td>2.0</td>\n",
       "      <td>3.0</td>\n",
       "      <td>2.0</td>\n",
       "      <td>3.0</td>\n",
       "      <td>3.0</td>\n",
       "      <td>3.0</td>\n",
       "      <td>3.0</td>\n",
       "      <td>3.0</td>\n",
       "      <td>3.0</td>\n",
       "    </tr>\n",
       "    <tr>\n",
       "      <th>30</th>\n",
       "      <td>3.0</td>\n",
       "      <td>NaN</td>\n",
       "      <td>3.0</td>\n",
       "      <td>3.0</td>\n",
       "      <td>4.0</td>\n",
       "      <td>3.0</td>\n",
       "      <td>4.0</td>\n",
       "      <td>2.0</td>\n",
       "      <td>NaN</td>\n",
       "    </tr>\n",
       "  </tbody>\n",
       "</table>\n",
       "</div>"
      ],
      "text/plain": [
       "JobRole   Healthcare Representative  Human Resources  Laboratory Technician  \\\n",
       "grouping                                                                      \n",
       "5                               3.0              3.0                    3.0   \n",
       "10                              3.0              3.0                    3.0   \n",
       "15                              3.0              2.0                    3.0   \n",
       "20                              3.0              2.0                    3.0   \n",
       "25                              2.0              3.0                    2.0   \n",
       "30                              3.0              NaN                    3.0   \n",
       "\n",
       "JobRole   Manager  Manufacturing Director  Research Director  \\\n",
       "grouping                                                       \n",
       "5             3.0                     3.0                3.0   \n",
       "10            3.0                     3.0                3.0   \n",
       "15            2.0                     3.0                4.0   \n",
       "20            2.0                     2.0                2.0   \n",
       "25            3.0                     3.0                3.0   \n",
       "30            3.0                     4.0                3.0   \n",
       "\n",
       "JobRole   Research Scientist  Sales Executive  Sales Representative  \n",
       "grouping                                                             \n",
       "5                        3.0              3.0                   3.0  \n",
       "10                       3.0              3.0                   3.0  \n",
       "15                       3.0              2.0                   3.0  \n",
       "20                       3.0              3.0                   3.0  \n",
       "25                       3.0              3.0                   3.0  \n",
       "30                       4.0              2.0                   NaN  "
      ]
     },
     "execution_count": 118,
     "metadata": {},
     "output_type": "execute_result"
    }
   ],
   "source": [
    "# create a pivot table for analysing TrainingTimesLastYear in relation with JobRole and YearsAtCompany (grouped)\n",
    "table = pd.pivot_table(df, values='TrainingTimesLastYear', columns='JobRole', \n",
    "                       index='grouping', aggfunc='mean')\n",
    "# round the pivot table mean results\n",
    "np.round(table)"
   ]
  },
  {
   "cell_type": "code",
   "execution_count": 119,
   "metadata": {},
   "outputs": [],
   "source": [
    "allenamento = df['TrainingTimesLastYear']\n",
    "\n",
    "# for loop to replace missing values with pivot table results\n",
    "for i, row in enumerate(allenamento):\n",
    "    if np.isnan(row)==True:\n",
    "        if df['grouping'][i]==10 and df['JobRole'][i]=='Research Director': allenamento[i]=2\n",
    "        elif df['grouping'][i]==15 and df['JobRole'][i]=='Sales Representative': allenamento[i]=2\n",
    "        elif df['grouping'][i]==15 and df['JobRole'][i]=='Sales Executive': allenamento[i]=2\n",
    "        elif df['grouping'][i]==15 and df['JobRole'][i]=='Research Director': allenamento[i]=4\n",
    "        elif df['grouping'][i]==15 and df['JobRole'][i]=='Manager': allenamento[i]=2\n",
    "        elif df['grouping'][i]==15 and df['JobRole'][i]=='Human Resurces': allenamento[i]=2\n",
    "        elif df['grouping'][i]==20 and df['JobRole'][i]=='Manager': allenamento[i]=2\n",
    "        elif df['grouping'][i]==20 and df['JobRole'][i]=='Human Resurces': allenamento[i]=2\n",
    "        elif df['grouping'][i]==20 and df['JobRole'][i]=='Manufacturing Director': allenamento[i]=2\n",
    "        elif df['grouping'][i]==25 and df['JobRole'][i]=='Healthcare Representative': allenamento[i]=2\n",
    "        elif df['grouping'][i]==25 and df['JobRole'][i]=='Laboratory Technician': allenamento[i]=2\n",
    "        elif df['grouping'][i]==25 and df['JobRole'][i]=='Research Scientist': allenamento[i]=2\n",
    "        elif df['grouping'][i]==30 and df['JobRole'][i]=='Research Director': allenamento[i]=4\n",
    "        elif df['grouping'][i]==30 and df['JobRole'][i]=='Research Scientist': allenamento[i]=4\n",
    "        elif df['grouping'][i]==30 and df['JobRole'][i]=='Director': allenamento[i]=4\n",
    "        else: allenamento[i]=3"
   ]
  },
  {
   "cell_type": "code",
   "execution_count": 120,
   "metadata": {},
   "outputs": [],
   "source": [
    "df.drop(columns=['grouping'], inplace=True) #drop the 'grouping' column"
   ]
  },
  {
   "cell_type": "code",
   "execution_count": 121,
   "metadata": {},
   "outputs": [
    {
     "data": {
      "text/plain": [
       "0"
      ]
     },
     "execution_count": 121,
     "metadata": {},
     "output_type": "execute_result"
    }
   ],
   "source": [
    "df['TrainingTimesLastYear'].isnull().sum() #check missing values"
   ]
  },
  {
   "cell_type": "markdown",
   "metadata": {},
   "source": [
    "## Age"
   ]
  },
  {
   "cell_type": "code",
   "execution_count": 122,
   "metadata": {},
   "outputs": [],
   "source": [
    "#compute the difference between two attributes (start working Age)\n",
    "diff = df['Age']-df['TotalWorkingYears']"
   ]
  },
  {
   "cell_type": "code",
   "execution_count": 123,
   "metadata": {},
   "outputs": [],
   "source": [
    "#replace fake element with NaN values\n",
    "for i, element in enumerate(diff):\n",
    "    if element<18: \n",
    "        diff[i]=np.nan"
   ]
  },
  {
   "cell_type": "code",
   "execution_count": 124,
   "metadata": {},
   "outputs": [],
   "source": [
    "#compute the mean of diff attribute and round it\n",
    "mean=np.round(diff.mean())"
   ]
  },
  {
   "cell_type": "code",
   "execution_count": 125,
   "metadata": {},
   "outputs": [],
   "source": [
    "#compute the hipotetical Age\n",
    "newage =df['TotalWorkingYears']+mean"
   ]
  },
  {
   "cell_type": "code",
   "execution_count": 126,
   "metadata": {},
   "outputs": [],
   "source": [
    "giorgio = df['Age']\n",
    "#replace NaN values of 'Age' with the correspondent values of 'newage'\n",
    "for i, val in enumerate(giorgio):\n",
    "    if np.isnan(val)==True:\n",
    "        giorgio[i]=newage[i]"
   ]
  },
  {
   "cell_type": "code",
   "execution_count": 127,
   "metadata": {},
   "outputs": [
    {
     "data": {
      "text/plain": [
       "0"
      ]
     },
     "execution_count": 127,
     "metadata": {},
     "output_type": "execute_result"
    }
   ],
   "source": [
    "#check for missing values\n",
    "df['Age'].isnull().sum()"
   ]
  },
  {
   "cell_type": "markdown",
   "metadata": {},
   "source": [
    "## Gender"
   ]
  },
  {
   "cell_type": "code",
   "execution_count": 128,
   "metadata": {},
   "outputs": [],
   "source": [
    "#replace Male and Female with 0 and 1\n",
    "df.replace('Male',0, inplace=True)\n",
    "df.replace('Female',1, inplace=True)"
   ]
  },
  {
   "cell_type": "code",
   "execution_count": 129,
   "metadata": {},
   "outputs": [],
   "source": [
    "#susbsitute missing values with values 0 and 1 keeping the proportion\n",
    "df['Gender'] = df['Gender'].fillna(pd.Series(np.random.choice([0, 1], \n",
    "                                                              p=[0.6, 0.4], \n",
    "                                                              size=len(df.index))))"
   ]
  },
  {
   "cell_type": "code",
   "execution_count": 130,
   "metadata": {},
   "outputs": [
    {
     "data": {
      "text/plain": [
       "0"
      ]
     },
     "execution_count": 130,
     "metadata": {},
     "output_type": "execute_result"
    }
   ],
   "source": [
    "#check for missing values\n",
    "df['Gender'].isnull().sum()"
   ]
  },
  {
   "cell_type": "markdown",
   "metadata": {},
   "source": [
    "## BusinessTravel"
   ]
  },
  {
   "cell_type": "code",
   "execution_count": 131,
   "metadata": {},
   "outputs": [
    {
     "data": {
      "text/plain": [
       "0"
      ]
     },
     "execution_count": 131,
     "metadata": {},
     "output_type": "execute_result"
    }
   ],
   "source": [
    "# susbsitute missing values of BusinessTravel keeping the proportion\n",
    "df['BusinessTravel'] = df['BusinessTravel'].fillna(pd.Series(np.random.choice(['Travel_Rarely', 'Travel_Frequently', 'Non-Travel'], \n",
    "                                                      p=[0.71, 0.19, 0.10], size=len(df))))\n",
    "# check null values\n",
    "df['BusinessTravel'].isnull().sum()"
   ]
  },
  {
   "cell_type": "markdown",
   "metadata": {},
   "source": [
    "## Drop values of the variables with constant values"
   ]
  },
  {
   "cell_type": "code",
   "execution_count": 132,
   "metadata": {},
   "outputs": [],
   "source": [
    "df.drop(columns=['Over18', 'StandardHours'], inplace=True)"
   ]
  },
  {
   "cell_type": "markdown",
   "metadata": {},
   "source": [
    "## Export final csv"
   ]
  },
  {
   "cell_type": "code",
   "execution_count": 133,
   "metadata": {},
   "outputs": [],
   "source": [
    "df.to_csv(path_or_buf='/home/damessina/Desktop/project_dataset/hr_cleaned.csv', index=False)"
   ]
  },
  {
   "cell_type": "code",
   "execution_count": null,
   "metadata": {},
   "outputs": [],
   "source": []
  }
 ],
 "metadata": {
  "kernelspec": {
   "display_name": "Python 3",
   "language": "python",
   "name": "python3"
  },
  "language_info": {
   "codemirror_mode": {
    "name": "ipython",
    "version": 3
   },
   "file_extension": ".py",
   "mimetype": "text/x-python",
   "name": "python",
   "nbconvert_exporter": "python",
   "pygments_lexer": "ipython3",
   "version": "3.8.3"
  }
 },
 "nbformat": 4,
 "nbformat_minor": 2
}
