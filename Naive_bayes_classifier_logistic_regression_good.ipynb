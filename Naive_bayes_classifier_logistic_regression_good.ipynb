{
 "cells": [
  {
   "cell_type": "code",
   "execution_count": 1,
   "metadata": {},
   "outputs": [],
   "source": [
    "import IPython.display as ipd\n",
    "import numpy as np\n",
    "import pandas as pd\n",
    "import matplotlib.pyplot as plt\n",
    "import seaborn as sns\n",
    "import sklearn as skl\n",
    "import sklearn.utils, sklearn.preprocessing, sklearn.decomposition\n",
    "from sklearn.metrics import confusion_matrix, ConfusionMatrixDisplay\n",
    "from sklearn.metrics import accuracy_score, f1_score, classification_report\n",
    "from sklearn.metrics import roc_curve, auc, roc_auc_score\n",
    "from sklearn.preprocessing import LabelBinarizer\n",
    "from sklearn.preprocessing import LabelEncoder\n",
    "from sklearn.model_selection import cross_val_score\n",
    "from sklearn.model_selection import GridSearchCV\n",
    "from sklearn.model_selection import RandomizedSearchCV\n",
    "from sklearn import preprocessing\n",
    "from sklearn.decomposition import PCA\n",
    "from sklearn.preprocessing import StandardScaler\n",
    "from sklearn.naive_bayes import GaussianNB, CategoricalNB, BernoulliNB\n",
    "from sklearn.linear_model import LogisticRegression\n",
    "from time import time\n",
    "import scikitplot as skplt"
   ]
  },
  {
   "cell_type": "code",
   "execution_count": 2,
   "metadata": {},
   "outputs": [],
   "source": [
    "df = pd.read_csv(\"/home/damessina/Desktop/df_pulito.csv\")"
   ]
  },
  {
   "cell_type": "code",
   "execution_count": 3,
   "metadata": {
    "scrolled": false
   },
   "outputs": [
    {
     "name": "stdout",
     "output_type": "stream",
     "text": [
      "<class 'pandas.core.frame.DataFrame'>\n",
      "RangeIndex: 25000 entries, 0 to 24999\n",
      "Data columns (total 40 columns):\n",
      " #   Column                    Non-Null Count  Dtype \n",
      "---  ------                    --------------  ----- \n",
      " 0   Unnamed: 0                25000 non-null  int64 \n",
      " 1   track_bit_rate            25000 non-null  int64 \n",
      " 2   track_date_created        25000 non-null  int64 \n",
      " 3   track_duration            25000 non-null  int64 \n",
      " 4   track_favorites           25000 non-null  int64 \n",
      " 5   track_genres              25000 non-null  object\n",
      " 6   track_genres_all          25000 non-null  object\n",
      " 7   track_interest            25000 non-null  int64 \n",
      " 8   track_listens             25000 non-null  int64 \n",
      " 9   track_number              25000 non-null  int64 \n",
      " 10  track_tags                25000 non-null  int64 \n",
      " 11  track_title               25000 non-null  object\n",
      " 12  track_id                  25000 non-null  int64 \n",
      " 13  album_comments            25000 non-null  int64 \n",
      " 14  album_date_created        25000 non-null  int64 \n",
      " 15  album_date_released       25000 non-null  int64 \n",
      " 16  album_favorites           25000 non-null  int64 \n",
      " 17  album_information         25000 non-null  int64 \n",
      " 18  album_listens             25000 non-null  int64 \n",
      " 19  album_title               25000 non-null  object\n",
      " 20  album_tracks              25000 non-null  int64 \n",
      " 21  album_tags                25000 non-null  int64 \n",
      " 22  artist_wikipedia_page     25000 non-null  object\n",
      " 23  artist_website            25000 non-null  int64 \n",
      " 24  artist_associated_labels  25000 non-null  int64 \n",
      " 25  artist_tags               25000 non-null  int64 \n",
      " 26  artist_bio                25000 non-null  int64 \n",
      " 27  artist_comments           25000 non-null  int64 \n",
      " 28  artist_favorites          25000 non-null  int64 \n",
      " 29  artist_id                 25000 non-null  int64 \n",
      " 30  split                     25000 non-null  object\n",
      " 31  Electronic                25000 non-null  int64 \n",
      " 32  Experimental              25000 non-null  int64 \n",
      " 33  Hip-Hop                   25000 non-null  int64 \n",
      " 34  Other                     25000 non-null  int64 \n",
      " 35  Rock                      25000 non-null  int64 \n",
      " 36  Album                     25000 non-null  int64 \n",
      " 37  Live Performance          25000 non-null  int64 \n",
      " 38  Radio Program             25000 non-null  int64 \n",
      " 39  Single Tracks             25000 non-null  int64 \n",
      "dtypes: int64(34), object(6)\n",
      "memory usage: 7.6+ MB\n"
     ]
    }
   ],
   "source": [
    "df.info()"
   ]
  },
  {
   "cell_type": "code",
   "execution_count": 4,
   "metadata": {},
   "outputs": [],
   "source": [
    "df.drop(columns=['album_title', 'track_title', 'track_genres', 'track_genres_all', 'track_id', 'artist_id'], inplace=True)"
   ]
  },
  {
   "cell_type": "code",
   "execution_count": 5,
   "metadata": {},
   "outputs": [],
   "source": [
    "#df.drop(columns=['track_favorites', 'artist_favorites'], inplace=True)"
   ]
  },
  {
   "cell_type": "code",
   "execution_count": 6,
   "metadata": {},
   "outputs": [],
   "source": [
    "df_split1 = df[df['split']=='training']\n",
    "df_split2 = df[df['split']=='validation']\n",
    "con = [df_split1, df_split2]\n",
    "df_train = pd.concat(con, ignore_index=True)\n",
    "df_train.drop(columns=['split'], inplace=True)\n",
    "df_train.reset_index(drop=True, inplace=True)"
   ]
  },
  {
   "cell_type": "code",
   "execution_count": 7,
   "metadata": {},
   "outputs": [],
   "source": [
    "attributes = [col for col in df_train.columns if col != 'artist_wikipedia_page']\n",
    "X_train = df_train[attributes].values\n",
    "y_train = df_train['artist_wikipedia_page']"
   ]
  },
  {
   "cell_type": "markdown",
   "metadata": {},
   "source": [
    "## Naive Bayes classifier su Dataset con tutti attributi base"
   ]
  },
  {
   "cell_type": "code",
   "execution_count": 8,
   "metadata": {},
   "outputs": [
    {
     "data": {
      "text/plain": [
       "GaussianNB()"
      ]
     },
     "execution_count": 8,
     "metadata": {},
     "output_type": "execute_result"
    }
   ],
   "source": [
    "clf = GaussianNB()\n",
    "clf.fit(X_train, y_train)"
   ]
  },
  {
   "cell_type": "code",
   "execution_count": 9,
   "metadata": {},
   "outputs": [],
   "source": [
    "y_pred = clf.predict(X_train)"
   ]
  },
  {
   "cell_type": "code",
   "execution_count": 10,
   "metadata": {},
   "outputs": [
    {
     "name": "stdout",
     "output_type": "stream",
     "text": [
      "Accuracy 0.9072100593035181\n",
      "F1-score [0.9508189  0.18103109]\n"
     ]
    }
   ],
   "source": [
    "print('Accuracy %s' % accuracy_score(y_train, y_pred))\n",
    "print('F1-score %s' % f1_score(y_train, y_pred, average=None))"
   ]
  },
  {
   "cell_type": "code",
   "execution_count": 11,
   "metadata": {
    "scrolled": true
   },
   "outputs": [
    {
     "data": {
      "text/plain": [
       "array([[20116,  1102],\n",
       "       [  979,   230]])"
      ]
     },
     "execution_count": 11,
     "metadata": {},
     "output_type": "execute_result"
    }
   ],
   "source": [
    "confusion_matrix(y_train, y_pred)"
   ]
  },
  {
   "cell_type": "code",
   "execution_count": 12,
   "metadata": {},
   "outputs": [
    {
     "name": "stderr",
     "output_type": "stream",
     "text": [
      "/home/damessina/anaconda3/lib/python3.8/site-packages/pandas/core/frame.py:4163: SettingWithCopyWarning: \n",
      "A value is trying to be set on a copy of a slice from a DataFrame\n",
      "\n",
      "See the caveats in the documentation: https://pandas.pydata.org/pandas-docs/stable/user_guide/indexing.html#returning-a-view-versus-a-copy\n",
      "  return super().drop(\n"
     ]
    }
   ],
   "source": [
    "df_test = df[df['split']=='test']\n",
    "df_test.drop(columns=['split'], inplace=True)\n",
    "df_test.reset_index(drop=True, inplace=True)\n",
    "attributes = [col for col in df_test.columns if col != 'artist_wikipedia_page']\n",
    "X_test = df_test[attributes].values\n",
    "y_test = df_test['artist_wikipedia_page']"
   ]
  },
  {
   "cell_type": "code",
   "execution_count": 13,
   "metadata": {},
   "outputs": [],
   "source": [
    "y_pred = clf.predict(X_test)"
   ]
  },
  {
   "cell_type": "code",
   "execution_count": 14,
   "metadata": {},
   "outputs": [
    {
     "name": "stdout",
     "output_type": "stream",
     "text": [
      "Accuracy 0.8511465215701516\n",
      "F1-score [0.91838909 0.15452539]\n",
      "              precision    recall  f1-score   support\n",
      "\n",
      "          No       0.95      0.89      0.92      2418\n",
      "         Yes       0.12      0.23      0.15       155\n",
      "\n",
      "    accuracy                           0.85      2573\n",
      "   macro avg       0.53      0.56      0.54      2573\n",
      "weighted avg       0.90      0.85      0.87      2573\n",
      "\n"
     ]
    }
   ],
   "source": [
    "print('Accuracy %s' % accuracy_score(y_test, y_pred))\n",
    "print('F1-score %s' % f1_score(y_test, y_pred, average=None))\n",
    "print(classification_report(y_test, y_pred))"
   ]
  },
  {
   "cell_type": "code",
   "execution_count": 15,
   "metadata": {
    "scrolled": true
   },
   "outputs": [
    {
     "data": {
      "text/plain": [
       "array([[2155,  263],\n",
       "       [ 120,   35]])"
      ]
     },
     "execution_count": 15,
     "metadata": {},
     "output_type": "execute_result"
    }
   ],
   "source": [
    "confusion_matrix(y_test, y_pred)"
   ]
  },
  {
   "cell_type": "markdown",
   "metadata": {},
   "source": [
    "### Naive Bayes classifier con Bernoulli model in cui selezioniamo le variabili binarie"
   ]
  },
  {
   "cell_type": "code",
   "execution_count": 16,
   "metadata": {},
   "outputs": [],
   "source": [
    "df1_train = df_train[['track_tags','artist_wikipedia_page', 'album_information', 'album_tags', 'artist_website', 'artist_associated_labels', 'artist_tags','artist_bio','Electronic', 'Experimental', 'Hip-Hop', 'Other', 'Rock', 'Album', 'Live Performance', 'Radio Program', 'Single Tracks']].copy()\n",
    "attributes = [col for col in df1_train.columns if col != 'artist_wikipedia_page']\n",
    "X1_train = df1_train[attributes].values\n",
    "y1_train = df1_train['artist_wikipedia_page']"
   ]
  },
  {
   "cell_type": "code",
   "execution_count": 17,
   "metadata": {},
   "outputs": [
    {
     "data": {
      "text/plain": [
       "BernoulliNB()"
      ]
     },
     "execution_count": 17,
     "metadata": {},
     "output_type": "execute_result"
    }
   ],
   "source": [
    "clf1 = BernoulliNB()\n",
    "clf1.fit(X1_train, y1_train)"
   ]
  },
  {
   "cell_type": "code",
   "execution_count": 18,
   "metadata": {},
   "outputs": [],
   "source": [
    "df1_test = df_test[['track_tags','artist_wikipedia_page', 'album_information', 'album_tags', 'artist_website', 'artist_associated_labels', 'artist_tags','artist_bio','Electronic', 'Experimental', 'Hip-Hop', 'Other', 'Rock', 'Album', 'Live Performance', 'Radio Program', 'Single Tracks']].copy()\n",
    "attributes = [col for col in df1_test.columns if col != 'artist_wikipedia_page']\n",
    "X1_test = df1_test[attributes].values\n",
    "y1_test = df1_test['artist_wikipedia_page']"
   ]
  },
  {
   "cell_type": "code",
   "execution_count": 19,
   "metadata": {},
   "outputs": [],
   "source": [
    "y1_pred = clf1.predict(X1_test)"
   ]
  },
  {
   "cell_type": "code",
   "execution_count": 20,
   "metadata": {},
   "outputs": [
    {
     "name": "stdout",
     "output_type": "stream",
     "text": [
      "Accuracy 0.8600855033035367\n",
      "F1-score [0.92392223 0.13043478]\n",
      "              precision    recall  f1-score   support\n",
      "\n",
      "          No       0.94      0.90      0.92      2418\n",
      "         Yes       0.10      0.17      0.13       155\n",
      "\n",
      "    accuracy                           0.86      2573\n",
      "   macro avg       0.52      0.54      0.53      2573\n",
      "weighted avg       0.89      0.86      0.88      2573\n",
      "\n"
     ]
    }
   ],
   "source": [
    "print('Accuracy %s' % accuracy_score(y1_test, y1_pred))\n",
    "print('F1-score %s' % f1_score(y1_test, y1_pred, average=None))\n",
    "print(classification_report(y1_test, y1_pred))"
   ]
  },
  {
   "cell_type": "code",
   "execution_count": 21,
   "metadata": {},
   "outputs": [
    {
     "data": {
      "text/plain": [
       "array([[2186,  232],\n",
       "       [ 128,   27]])"
      ]
     },
     "execution_count": 21,
     "metadata": {},
     "output_type": "execute_result"
    }
   ],
   "source": [
    "confusion_matrix(y1_test, y1_pred)"
   ]
  },
  {
   "cell_type": "markdown",
   "metadata": {},
   "source": [
    "## Naive Bayes su Dataset con attributi numerici continui"
   ]
  },
  {
   "cell_type": "markdown",
   "metadata": {},
   "source": [
    "### Poiché si usa il Naive Bayes supponendo che distribuzione degli attributi sia gaussiana, seleziono solo gli attriuti continui"
   ]
  },
  {
   "cell_type": "code",
   "execution_count": 22,
   "metadata": {},
   "outputs": [],
   "source": [
    "df0_train = df_train[['track_bit_rate','track_date_created', 'track_duration', 'track_interest','track_listens','album_comments', 'album_date_created', 'album_date_released', 'album_favorites', 'album_listens', 'album_tracks', 'artist_comments', 'artist_wikipedia_page']].copy()     \n",
    "attributes = [col for col in df0_train.columns if col != 'artist_wikipedia_page']\n",
    "X0_train = df0_train[attributes].values\n",
    "y0_train = df0_train['artist_wikipedia_page']"
   ]
  },
  {
   "cell_type": "code",
   "execution_count": 23,
   "metadata": {},
   "outputs": [
    {
     "data": {
      "text/plain": [
       "GaussianNB()"
      ]
     },
     "execution_count": 23,
     "metadata": {},
     "output_type": "execute_result"
    }
   ],
   "source": [
    "clf0 = GaussianNB()\n",
    "clf0.fit(X0_train, y0_train)"
   ]
  },
  {
   "cell_type": "code",
   "execution_count": 24,
   "metadata": {},
   "outputs": [],
   "source": [
    "df0_test = df_test[['track_bit_rate','track_date_created', 'track_duration', 'track_interest','track_listens','album_comments', 'album_date_created', 'album_date_released', 'album_favorites', 'album_listens', 'album_tracks', 'artist_comments', 'artist_wikipedia_page']].copy()\n",
    "attributes = [col for col in df0_test.columns if col != 'artist_wikipedia_page']\n",
    "X0_test = df0_test[attributes].values\n",
    "y0_test = df0_test['artist_wikipedia_page']"
   ]
  },
  {
   "cell_type": "code",
   "execution_count": 25,
   "metadata": {},
   "outputs": [],
   "source": [
    "y0_pred = clf0.predict(X0_test)"
   ]
  },
  {
   "cell_type": "code",
   "execution_count": 26,
   "metadata": {},
   "outputs": [
    {
     "name": "stdout",
     "output_type": "stream",
     "text": [
      "Accuracy 0.8701904391760591\n",
      "F1-score [0.9302714  0.06179775]\n",
      "              precision    recall  f1-score   support\n",
      "\n",
      "          No       0.94      0.92      0.93      2418\n",
      "         Yes       0.05      0.07      0.06       155\n",
      "\n",
      "    accuracy                           0.87      2573\n",
      "   macro avg       0.50      0.50      0.50      2573\n",
      "weighted avg       0.89      0.87      0.88      2573\n",
      "\n"
     ]
    }
   ],
   "source": [
    "print('Accuracy %s' % accuracy_score(y0_test, y0_pred))\n",
    "print('F1-score %s' % f1_score(y0_test, y0_pred, average=None))\n",
    "print(classification_report(y0_test, y0_pred))"
   ]
  },
  {
   "cell_type": "code",
   "execution_count": 27,
   "metadata": {},
   "outputs": [
    {
     "data": {
      "text/plain": [
       "array([[2228,  190],\n",
       "       [ 144,   11]])"
      ]
     },
     "execution_count": 27,
     "metadata": {},
     "output_type": "execute_result"
    }
   ],
   "source": [
    "confusion_matrix(y0_test, y0_pred)"
   ]
  },
  {
   "cell_type": "markdown",
   "metadata": {},
   "source": [
    "## ROC Curve del modello migliore"
   ]
  },
  {
   "cell_type": "code",
   "execution_count": 28,
   "metadata": {},
   "outputs": [
    {
     "data": {
      "text/plain": [
       "['No', 'Yes']"
      ]
     },
     "execution_count": 28,
     "metadata": {},
     "output_type": "execute_result"
    }
   ],
   "source": [
    "lb = LabelBinarizer()\n",
    "lb.fit(y_test)\n",
    "lb.classes_.tolist()"
   ]
  },
  {
   "cell_type": "code",
   "execution_count": 29,
   "metadata": {},
   "outputs": [],
   "source": [
    "fpr = dict()\n",
    "tpr = dict()\n",
    "roc_auc = dict()\n",
    "by_test_bin= lb.transform(y_test)\n",
    "by_pred_bin = lb.transform(y_pred)\n",
    "by_test = np.hstack((by_test_bin, 1 - by_test_bin))\n",
    "by_pred = np.hstack((by_pred_bin, 1 - by_pred_bin))"
   ]
  },
  {
   "cell_type": "code",
   "execution_count": 30,
   "metadata": {},
   "outputs": [
    {
     "data": {
      "text/plain": [
       "array([0.55851944, 0.55851944])"
      ]
     },
     "execution_count": 30,
     "metadata": {},
     "output_type": "execute_result"
    }
   ],
   "source": [
    "for i in range(2):\n",
    "    fpr[i], tpr[i], _ = roc_curve(by_test[:, i], by_pred[:, i])\n",
    "    roc_auc[i] = auc(fpr[i], tpr[i])\n",
    "    \n",
    "roc_auc = roc_auc_score(by_test, by_pred, average=None)\n",
    "roc_auc"
   ]
  },
  {
   "cell_type": "code",
   "execution_count": 31,
   "metadata": {
    "scrolled": true
   },
   "outputs": [
    {
     "data": {
      "image/png": "[encoded data removed]",
      "text/plain": [
       "<Figure size 720x504 with 1 Axes>"
      ]
     },
     "metadata": {
      "needs_background": "light"
     },
     "output_type": "display_data"
    }
   ],
   "source": [
    "plt.figure(figsize=(10, 7))\n",
    "for i in range(2):\n",
    "    plt.plot(fpr[i], tpr[i], \n",
    "             label='%s ROC curve (area = %0.2f)' % (lb.classes_.tolist()[i], roc_auc[i]))\n",
    "    \n",
    "plt.plot([0, 1], [0, 1], 'k--')\n",
    "plt.xlim([-0.01, 1.05])\n",
    "plt.ylim([-0.01, 1.05])\n",
    "plt.xlabel('False Positive Rate', fontsize=15)\n",
    "plt.ylabel('True Positive Rate', fontsize=15) \n",
    "plt.tick_params(axis='both', which='major', labelsize=15)\n",
    "plt.legend(loc=\"lower right\", fontsize=12, frameon=False)\n",
    "plt.show()"
   ]
  },
  {
   "cell_type": "markdown",
   "metadata": {},
   "source": [
    "## Cumulative gain"
   ]
  },
  {
   "cell_type": "markdown",
   "metadata": {},
   "source": [
    "### Questo grafico ci serve per sapere quanti dati sono serviti per raggiungere il risultato ottenuto nel modello"
   ]
  },
  {
   "cell_type": "code",
   "execution_count": 32,
   "metadata": {},
   "outputs": [
    {
     "data": {
      "text/plain": [
       "<AxesSubplot:title={'center':'Cumulative Gains Curve'}, xlabel='Percentage of sample', ylabel='Gain'>"
      ]
     },
     "execution_count": 32,
     "metadata": {},
     "output_type": "execute_result"
    },
    {
     "data": {
      "image/png": "[encoded data removed]",
      "text/plain": [
       "<Figure size 432x288 with 1 Axes>"
      ]
     },
     "metadata": {
      "needs_background": "light"
     },
     "output_type": "display_data"
    }
   ],
   "source": [
    "predicted_probabilities = clf.predict_proba(X_test)\n",
    "# Creating the plot\n",
    "skplt.metrics.plot_cumulative_gain(y_test, predicted_probabilities)"
   ]
  },
  {
   "cell_type": "code",
   "execution_count": 51,
   "metadata": {},
   "outputs": [
    {
     "data": {
      "text/plain": [
       "<AxesSubplot:title={'center':'Lift Curve'}, xlabel='Percentage of sample', ylabel='Lift'>"
      ]
     },
     "execution_count": 51,
     "metadata": {},
     "output_type": "execute_result"
    },
    {
     "data": {
      "image/png": "[encoded data removed]",
      "text/plain": [
       "<Figure size 432x288 with 1 Axes>"
      ]
     },
     "metadata": {
      "needs_background": "light"
     },
     "output_type": "display_data"
    }
   ],
   "source": [
    "skplt.metrics.plot_lift_curve(y_test, predicted_probabilities)"
   ]
  },
  {
   "cell_type": "markdown",
   "metadata": {},
   "source": [
    "## Cross Validation del modello migliore"
   ]
  },
  {
   "cell_type": "code",
   "execution_count": 33,
   "metadata": {},
   "outputs": [
    {
     "name": "stdout",
     "output_type": "stream",
     "text": [
      "Accuracy: 0.8205 (+/- 0.50)\n",
      "F1-score: 0.5302 (+/- 0.36)\n",
      "recall: 0.6358 (+/- 0.33)\n"
     ]
    }
   ],
   "source": [
    "df_cross = df\n",
    "\n",
    "df_cross.drop(columns=['split'], inplace=True)\n",
    "\n",
    "attributes = [col for col in df.columns if col != 'artist_wikipedia_page']\n",
    "X = df_cross[attributes].values\n",
    "y = df_cross['artist_wikipedia_page']\n",
    "\n",
    "scores = cross_val_score(clf, X, y, cv=15)\n",
    "print('Accuracy: %0.4f (+/- %0.2f)' % (scores.mean(), scores.std() * 2))\n",
    "\n",
    "scores = cross_val_score(clf, X, y, cv=15, scoring='f1_macro')\n",
    "print('F1-score: %0.4f (+/- %0.2f)' % (scores.mean(), scores.std() * 2))\n",
    "\n",
    "scores = cross_val_score(clf, X, y, cv=15, scoring='recall_macro')\n",
    "print('recall: %0.4f (+/- %0.2f)' % (scores.mean(), scores.std() * 2))"
   ]
  },
  {
   "cell_type": "markdown",
   "metadata": {},
   "source": [
    "## Logistic Regression"
   ]
  },
  {
   "cell_type": "code",
   "execution_count": 42,
   "metadata": {},
   "outputs": [],
   "source": [
    "scaler = StandardScaler()"
   ]
  },
  {
   "cell_type": "code",
   "execution_count": 43,
   "metadata": {},
   "outputs": [],
   "source": [
    "#standardizzo i valori"
   ]
  },
  {
   "cell_type": "code",
   "execution_count": 44,
   "metadata": {},
   "outputs": [],
   "source": [
    "Xs_train = scaler.fit_transform(X0_train)\n",
    "Xs_test = scaler.fit_transform(X0_test)"
   ]
  },
  {
   "cell_type": "code",
   "execution_count": 45,
   "metadata": {},
   "outputs": [
    {
     "data": {
      "text/plain": [
       "LogisticRegression(max_iter=10000, random_state=0, solver='saga')"
      ]
     },
     "execution_count": 45,
     "metadata": {},
     "output_type": "execute_result"
    }
   ],
   "source": [
    "clf_LR = LogisticRegression(random_state=0, solver = 'saga', max_iter= 10000)\n",
    "clf_LR.fit(Xs_train, y_train)"
   ]
  },
  {
   "cell_type": "code",
   "execution_count": 46,
   "metadata": {
    "scrolled": true
   },
   "outputs": [
    {
     "name": "stdout",
     "output_type": "stream",
     "text": [
      "Accuracy 0.9397590361445783\n",
      "F1-score [0.9689441 0.       ]\n",
      "              precision    recall  f1-score   support\n",
      "\n",
      "          No       0.94      1.00      0.97      2418\n",
      "         Yes       0.00      0.00      0.00       155\n",
      "\n",
      "    accuracy                           0.94      2573\n",
      "   macro avg       0.47      0.50      0.48      2573\n",
      "weighted avg       0.88      0.94      0.91      2573\n",
      "\n"
     ]
    },
    {
     "name": "stderr",
     "output_type": "stream",
     "text": [
      "/home/damessina/anaconda3/lib/python3.8/site-packages/sklearn/metrics/_classification.py:1221: UndefinedMetricWarning: Precision and F-score are ill-defined and being set to 0.0 in labels with no predicted samples. Use `zero_division` parameter to control this behavior.\n",
      "  _warn_prf(average, modifier, msg_start, len(result))\n"
     ]
    }
   ],
   "source": [
    "ys_pred = clf_LR.predict(Xs_test)\n",
    "\n",
    "print('Accuracy %s' % accuracy_score(y0_test, ys_pred))\n",
    "print('F1-score %s' % f1_score(y0_test, ys_pred, average=None))\n",
    "print(classification_report(y0_test, ys_pred))"
   ]
  },
  {
   "cell_type": "code",
   "execution_count": 47,
   "metadata": {},
   "outputs": [
    {
     "data": {
      "text/plain": [
       "array(['No', 'No', 'No', ..., 'No', 'No', 'No'], dtype=object)"
      ]
     },
     "execution_count": 47,
     "metadata": {},
     "output_type": "execute_result"
    }
   ],
   "source": [
    "ys_pred"
   ]
  },
  {
   "cell_type": "code",
   "execution_count": 48,
   "metadata": {
    "scrolled": true
   },
   "outputs": [
    {
     "data": {
      "text/plain": [
       "array([[2418,    0],\n",
       "       [ 155,    0]])"
      ]
     },
     "execution_count": 48,
     "metadata": {},
     "output_type": "execute_result"
    }
   ],
   "source": [
    "conf_mat = confusion_matrix(y0_test, ys_pred)\n",
    "conf_mat"
   ]
  },
  {
   "cell_type": "code",
   "execution_count": 49,
   "metadata": {},
   "outputs": [
    {
     "data": {
      "text/plain": [
       "<AxesSubplot:title={'center':'Cumulative Gains Curve'}, xlabel='Percentage of sample', ylabel='Gain'>"
      ]
     },
     "execution_count": 49,
     "metadata": {},
     "output_type": "execute_result"
    },
    {
     "data": {
      "image/png": "[encoded data removed]",
      "text/plain": [
       "<Figure size 432x288 with 1 Axes>"
      ]
     },
     "metadata": {
      "needs_background": "light"
     },
     "output_type": "display_data"
    }
   ],
   "source": [
    "predicted_probabilities_LR = clf_LR.predict_proba(Xs_test)\n",
    "# Creating the plot\n",
    "skplt.metrics.plot_cumulative_gain(y0_test, predicted_probabilities_LR)"
   ]
  },
  {
   "cell_type": "code",
   "execution_count": 50,
   "metadata": {},
   "outputs": [
    {
     "data": {
      "text/plain": [
       "<AxesSubplot:title={'center':'Lift Curve'}, xlabel='Percentage of sample', ylabel='Lift'>"
      ]
     },
     "execution_count": 50,
     "metadata": {},
     "output_type": "execute_result"
    },
    {
     "data": {
      "image/png": "[encoded data removed]",
      "text/plain": [
       "<Figure size 432x288 with 1 Axes>"
      ]
     },
     "metadata": {
      "needs_background": "light"
     },
     "output_type": "display_data"
    }
   ],
   "source": [
    "skplt.metrics.plot_lift_curve(y0_test, predicted_probabilities_LR)"
   ]
  },
  {
   "cell_type": "markdown",
   "metadata": {},
   "source": [
    "#### Faccio la cross validation, ma siccome il numero di iterazioni è molto elevato (10000), i tempi di computazione sono altissimi. Anche la randomized search potrebbe essere estremamente dispendiosa per la ricerca dei parametri giusti, aumentando di molto il numero di iterazioni, ma in quel caso si può mettere più alto di 95 perché le combinazioni tra tutti i parametri possibili è 95"
   ]
  },
  {
   "cell_type": "code",
   "execution_count": 40,
   "metadata": {},
   "outputs": [
    {
     "name": "stdout",
     "output_type": "stream",
     "text": [
      "Accuracy: 0.9360 (+/- 0.07)\n",
      "F1-score: 0.5155 (+/- 0.09)\n",
      "recall: 0.5157 (+/- 0.05)\n"
     ]
    }
   ],
   "source": [
    "df_cross = df\n",
    "\n",
    "#df_cross.drop(columns=['split'], inplace=True)\n",
    "\n",
    "attributes = [col for col in df.columns if col != 'artist_wikipedia_page']\n",
    "X = scaler.fit_transform(df_cross[attributes].values)\n",
    "y = df_cross['artist_wikipedia_page']\n",
    "\n",
    "scores = cross_val_score(clf_LR, X, y, cv=15)\n",
    "print('Accuracy: %0.4f (+/- %0.2f)' % (scores.mean(), scores.std() * 2))\n",
    "\n",
    "scores = cross_val_score(clf_LR, X, y, cv=15, scoring='f1_macro')\n",
    "print('F1-score: %0.4f (+/- %0.2f)' % (scores.mean(), scores.std() * 2))\n",
    "\n",
    "scores = cross_val_score(clf_LR, X, y, cv=15, scoring='recall_macro')\n",
    "print('recall: %0.4f (+/- %0.2f)' % (scores.mean(), scores.std() * 2))"
   ]
  }
 ],
 "metadata": {
  "kernelspec": {
   "display_name": "Python 3",
   "language": "python",
   "name": "python3"
  },
  "language_info": {
   "codemirror_mode": {
    "name": "ipython",
    "version": 3
   },
   "file_extension": ".py",
   "mimetype": "text/x-python",
   "name": "python",
   "nbconvert_exporter": "python",
   "pygments_lexer": "ipython3",
   "version": "3.8.5"
  }
 },
 "nbformat": 4,
 "nbformat_minor": 4
}